{
 "cells": [
  {
   "cell_type": "code",
   "execution_count": null,
   "metadata": {},
   "outputs": [],
   "source": [
    "import baostock as bs\n",
    "import pandas as pd\n",
    "import numpy as np\n",
    "\n",
    "# 计算日度回报率\n",
    "def calculate_daily_returns(df):\n",
    "    df['close'] = df['close'].astype(float)\n",
    "    df['daily_return'] = df['close'].pct_change()  # 计算日度回报率\n",
    "    return df\n",
    "\n",
    "# 获取股票历史数据\n",
    "def fetch_stock_data(stock_code, start_date, end_date, fields, file_name):\n",
    "    # 登录\n",
    "    lg = bs.login()\n",
    "    if lg.error_code != '0':\n",
    "        print(f\"登录失败，错误代码：{lg.error_code}，错误信息：{lg.error_msg}\")\n",
    "        return None\n",
    "    \n",
    "    # 获取历史数据\n",
    "    rs = bs.query_history_k_data_plus(stock_code,  # 股票代码\n",
    "                                      fields,  # 需要的字段\n",
    "                                      start_date=start_date,  # 起始日期\n",
    "                                      end_date=end_date,  # 结束日期\n",
    "                                      frequency=\"d\",  # 数据频率：'d'表示日线\n",
    "                                      adjustflag='3')  # 复权：'3'表示前复权\n",
    "    \n",
    "    # 获取数据\n",
    "    data = []\n",
    "    while rs.next():\n",
    "        data.append(rs.get_row_data())\n",
    "    \n",
    "    if data:\n",
    "        df = pd.DataFrame(data, columns=fields.split(','))\n",
    "        df = calculate_daily_returns(df)\n",
    "        df.to_csv(file_name, index=False)\n",
    "        print(f\"股票数据已保存到 {file_name}\")\n",
    "    else:\n",
    "        print(\"没有获取到数据\")\n",
    "    \n",
    "    bs.logout()\n",
    "\n",
    "# 获取市场指数数据（例如：上证指数）\n",
    "def fetch_market_data(market_code, start_date, end_date, fields, file_name):\n",
    "    lg = bs.login()\n",
    "    if lg.error_code != '0':\n",
    "        print(f\"登录失败，错误代码：{lg.error_code}，错误信息：{lg.error_msg}\")\n",
    "        return None\n",
    "    \n",
    "    # 获取市场指数数据\n",
    "    rs = bs.query_history_k_data_plus(market_code,  # 市场指数代码\n",
    "                                      fields,  # 需要的字段\n",
    "                                      start_date=start_date,  # 起始日期\n",
    "                                      end_date=end_date,  # 结束日期\n",
    "                                      frequency=\"d\",  # 数据频率：'d'表示日线\n",
    "                                      adjustflag='3')  # 复权：'3'表示前复权\n",
    "    \n",
    "    # 获取数据\n",
    "    data = []\n",
    "    while rs.next():\n",
    "        data.append(rs.get_row_data())\n",
    "    \n",
    "    if data:\n",
    "        df = pd.DataFrame(data, columns=fields.split(','))\n",
    "        df = calculate_daily_returns(df)\n",
    "        df.to_csv(file_name, index=False)\n",
    "        print(f\"市场数据已保存到 {file_name}\")\n",
    "    else:\n",
    "        print(\"没有获取到市场数据\")\n",
    "    \n",
    "    bs.logout()\n"
   ]
  },
  {
   "cell_type": "markdown",
   "metadata": {},
   "source": [
    "# 数据集准备"
   ]
  },
  {
   "cell_type": "markdown",
   "metadata": {},
   "source": [
    "## 函数库"
   ]
  },
  {
   "cell_type": "code",
   "execution_count": null,
   "metadata": {},
   "outputs": [],
   "source": [
    "import plotly.express as px\n",
    "start='2023-12-01'\n",
    "end='2024-11-30'\n",
    "def Interplolate(df,time,order=2):\n",
    "    df.loc[:,time]=pd.to_datetime(df[time])\n",
    "    df.set_index(time,inplace=True)\n",
    "    date_range = pd.date_range(start=start, end=end, freq='D')\n",
    "    df = df[start:end].reindex(date_range)\n",
    "    if np.isnan(df.iloc[0].item()):\n",
    "        df.iloc[0]=df.mean().item()\n",
    "    return df,df.interpolate(method='spline',order=order)\n",
    "\n",
    "def BfAfInterplolate(df,df_filled):\n",
    "    fig = px.line(x=df.index, y=df[df.columns[0]], line_shape='linear', title=\"Yield over Time\")\n",
    "\n",
    "    fig.add_scatter(x=df_filled.index, y=df_filled[df_filled.columns[0]], mode='lines', name=\"Interpolated Data\", line=dict(color='red'))\n",
    "    var=np.var(df_filled.to_numpy())\n",
    "    mean=np.mean(df_filled.to_numpy())\n",
    "    fig.update_traces(connectgaps=False)\n",
    "    fig.update_layout(\n",
    "        title=\"Yield over Time\",\n",
    "        xaxis_title=\"Date\",\n",
    "        yaxis_title=\"Yield(%)\",\n",
    "        legend_title=\"Data\",\n",
    "        legend=dict(\n",
    "            title=\"Legend\",\n",
    "            x=1,\n",
    "            y=1\n",
    "        )\n",
    "    )\n",
    "   \n",
    "    fig.add_annotation(\n",
    "        x=df_filled.index[len(df_filled)//2],  # 放置注释的x位置\n",
    "        y=max(df_filled[df_filled.columns[0]]),  # 放置注释的y位置\n",
    "        text=f\"Variance: {var:.4f}Mean: {mean:.4f}\",  # 方差值，保留四位小数\n",
    "        showarrow=False,  # 不显示箭头\n",
    "        font=dict(size=12, color='black'),  # 设置字体大小和颜色\n",
    "        bgcolor='white'  # 背景颜色\n",
    "    )\n",
    " \n",
    "    fig.show()\n",
    "\n",
    "def CalYield(Clsprc):\n",
    "    e=Clsprc.to_numpy()\n",
    "    e_filled = np.zeros(e.shape[0] + 1) \n",
    "    e_filled[1:]=e\n",
    "    e_filled[0]=2*e[0]-e[1]\n",
    "    Yield=np.log(e_filled[1:]/e_filled[:-1])*100\n",
    "    return Yield\n",
    "    \n",
    "def StkProcessing(df,time,code,columns):\n",
    "    df=df[df['Filling']==0]\n",
    "    df_dict={}\n",
    "    for column in columns:\n",
    "        col_df = df[df[code].notnull()][[time,code, column]]\n",
    "        col_df = col_df.pivot(index=time, columns=code, values=column)\n",
    "        df_dict[column] = col_df\n",
    "\n",
    "    return df_dict\n"
   ]
  },
  {
   "cell_type": "markdown",
   "metadata": {},
   "source": [
    "## 数据清洗"
   ]
  },
  {
   "cell_type": "code",
   "execution_count": null,
   "metadata": {},
   "outputs": [],
   "source": [
    "import pandas as pd\n",
    "import numpy as np\n",
    "Market=pd.read_csv('TRD_Cndalym.csv')\n",
    "Amarket=Market[Market['Markettype']==5]\n",
    "Amarket.loc[:,'Cdretmdos'] = Amarket['Cdretmdos'] * 100\n",
    "marketflow=Amarket[['Trddt','Cdretmdos']]\n",
    "\n",
    "lowrisk=pd.read_csv('BND_TreasYield.csv')\n",
    "lowrisk=lowrisk[lowrisk['Cvtype']==2]\n",
    "lowrisk_1y=lowrisk[lowrisk['Yeartomatu']==1][['Trddt','Yield']]\n",
    "lowrisk_1y.loc[:,'Yield']=lowrisk_1y['Yield'].astype(np.float64)/365\n",
    "lowrisk_1y,lowrisk_1y_filled=Interplolate(lowrisk_1y,'Trddt')\n",
    "\n",
    "marketflow,marketflow_filled=Interplolate(marketflow,'Trddt',1)\n",
    "filled_datalist=[marketflow_filled,lowrisk_1y_filled]\n",
    "datalist=[marketflow,lowrisk_1y]\n",
    "\n"
   ]
  },
  {
   "cell_type": "code",
   "execution_count": 4,
   "metadata": {},
   "outputs": [],
   "source": [
    "time='TradingDate'\n",
    "code='Symbol'\n",
    "dfs = [pd.read_csv(f'TRD_FwardQuotation{i}.csv') for i in range(1, 7)]\n",
    "combined_df = pd.concat(dfs)\n",
    "columns=['OpenPrice','ClosePrice','TurnoverRate1','MarketValue','CirculatedMarketValue']\n",
    "stkdf_dict=StkProcessing(combined_df,time,code,columns)\n"
   ]
  },
  {
   "cell_type": "code",
   "execution_count": null,
   "metadata": {},
   "outputs": [],
   "source": []
  },
  {
   "cell_type": "code",
   "execution_count": null,
   "metadata": {},
   "outputs": [],
   "source": []
  },
  {
   "cell_type": "markdown",
   "metadata": {},
   "source": [
    "## 数据集划分"
   ]
  },
  {
   "cell_type": "code",
   "execution_count": 5,
   "metadata": {},
   "outputs": [],
   "source": [
    "# #spilt\n",
    "# def split(datalist, a=0.8):\n",
    "#     train_datas = []\n",
    "#     test_datas = []\n",
    "    \n",
    "#     for df in datalist:\n",
    "#         # 获取数据的分割点\n",
    "#         train_size = int(len(df) * a)  # 计算训练集的大小\n",
    "        \n",
    "#         # 切割数据集\n",
    "#         train_data = df.iloc[:train_size]  # 前 a% 的数据作为训练集\n",
    "#         test_data = df.iloc[train_size:]  # 剩余的数据作为测试集\n",
    "        \n",
    "#         # 添加到对应的列表\n",
    "#         train_datas.append(train_data)\n",
    "#         test_datas.append(test_data)\n",
    "    \n",
    "#     return train_datas, test_datas\n",
    "# train_datas,test_datas=split(filled_datalist)\n",
    "# org_train,org_test=split(datalist)\n"
   ]
  },
  {
   "cell_type": "markdown",
   "metadata": {},
   "source": [
    "## 收益率曲线展示"
   ]
  },
  {
   "cell_type": "code",
   "execution_count": 6,
   "metadata": {},
   "outputs": [],
   "source": [
    "# for df,filled_df,test_df,filled_test_df in zip(org_train,train_datas,org_test,test_datas):\n",
    "#     BfAfInterplolate(df,filled_df)\n",
    "#     BfAfInterplolate(test_df,filled_test_df)"
   ]
  },
  {
   "cell_type": "markdown",
   "metadata": {},
   "source": [
    "# 收益率溢价评估"
   ]
  },
  {
   "cell_type": "markdown",
   "metadata": {},
   "source": [
    "## CAPM"
   ]
  },
  {
   "cell_type": "code",
   "execution_count": 7,
   "metadata": {},
   "outputs": [],
   "source": [
    "# stk_index=np.arange(len(train_datas))[2:]\n",
    "# def CalBetas(datalist,market_index,stk_index):\n",
    "#     betas=[]\n",
    "#     for i in stk_index:\n",
    "#         cov=np.cov(datalist[i].to_numpy().flatten(),datalist[market_index].to_numpy().flatten())\n",
    "#         betai=cov[0,1]/cov[1,1]\n",
    "#         betas.append(betai)\n",
    "#     return betas\n",
    "\n",
    "# def CalERi(datalist,betas,market_index,lowrisk_index,episilon=0):\n",
    "#     m=np.array(datalist)[market_index].squeeze(1)\n",
    "#     l=np.array(datalist)[lowrisk_index].squeeze(1)\n",
    "#     delta=m-l\n",
    "#     return np.array(betas).reshape(-1,1)@delta.reshape(1,-1)+l\n",
    "\n",
    "# def GetCovMatrix(datalist,stk_index):\n",
    "#     return np.cov(np.array(datalist)[stk_index].squeeze(2),rowvar=True)\n",
    "\n",
    "# betas=CalBetas(train_datas,0,stk_index)\n",
    "# ERi=CalERi(train_datas,betas,0,1)\n",
    "# CovMatrix=GetCovMatrix(train_datas,stk_index)\n",
    "\n"
   ]
  },
  {
   "cell_type": "markdown",
   "metadata": {},
   "source": [
    "## 资产组合优化"
   ]
  },
  {
   "cell_type": "markdown",
   "metadata": {},
   "source": [
    "## numpy解析法"
   ]
  },
  {
   "cell_type": "code",
   "execution_count": 8,
   "metadata": {},
   "outputs": [],
   "source": [
    "# def minimize_sigma(sigma,u,u_star):\n",
    "#     '''np方法得到给定收益率期望下使得风险系数最小的权重向量解析解'''\n",
    "#     one=np.zeros((u.shape[0],1))+1\n",
    "#     inv_sigma=np.linalg.inv(sigma)\n",
    "#     A=np.concatenate((one.T,u.T))\n",
    "#     P1=one.T@inv_sigma@A.T\n",
    "#     P2=u.T@inv_sigma@A.T\n",
    "#     P=np.concatenate((P1,P2))\n",
    "#     b=np.matrix([1,u_star]).reshape(2,1)\n",
    "#     lambdas=np.linalg.solve(P,b)\n",
    "#     return lambdas.T@A@inv_sigma\n",
    "\n",
    "# u=ERi[:,100].reshape(ERi.shape[0],1)\n",
    "# w=minimize_sigma(CovMatrix,u,1)\n",
    "\n",
    "# U=w@u\n",
    "# var=w@CovMatrix@w.T\n",
    "\n",
    "# print(w)\n",
    "# print(U/np.sqrt(var))"
   ]
  },
  {
   "cell_type": "markdown",
   "metadata": {},
   "source": [
    "## cvxpy凸优化库二次规划"
   ]
  },
  {
   "cell_type": "code",
   "execution_count": 9,
   "metadata": {},
   "outputs": [],
   "source": [
    "# import cvxpy as cp\n",
    "# def cp_minimize_sigma(CovMatrix,u,ustar):\n",
    "#     w=cp.Variable(u.shape[0])\n",
    "\n",
    "#     objective=cp.Minimize(cp.quad_form(w,CovMatrix))\n",
    "\n",
    "#     constrains=[cp.sum(w)==1,w>=0,w@u>=ustar]\n",
    "\n",
    "#     problem=cp.Problem(objective,constrains)\n",
    "#     problem.solve()\n",
    "#     if problem.status not in [\"infeasible\", \"unbounded\"]:\n",
    "#         return w.value,cp.quad_form(w,CovMatrix).value\n",
    "#     else:\n",
    "#         raise ValueError(\"minimize Optimization did not succeed. Status: \" + problem.status)\n",
    "# def cp_maximize_u(CovMatrix,u,sig):\n",
    "#     w=cp.Variable(u.shape[0])\n",
    "\n",
    "#     objective=cp.Maximize(w@u)\n",
    "\n",
    "#     constrains=[cp.sum(w)==1,w>=0,cp.quad_form(w,CovMatrix)<=sig]\n",
    "\n",
    "#     problem=cp.Problem(objective,constrains)\n",
    "#     problem.solve()\n",
    "#     if problem.status not in [\"infeasible\", \"unbounded\"]:\n",
    "#         return w.value,cp.quad_form(w,CovMatrix).value\n",
    "#     else:\n",
    "#         raise ValueError(\"maximize Optimization did not succeed. Status: \" + problem.status)\n",
    "# ustar=0.08\n",
    "# sig=1.2\n",
    "# w1,s1=cp_maximize_u(CovMatrix,u,sig)\n",
    "# w2,s2=cp_minimize_sigma(CovMatrix,u,ustar)\n",
    "\n",
    "# print(w1@u/np.sqrt(s1),w1@u,s1)\n",
    "# print(w2@u/np.sqrt(s2),w2@u,s2)\n"
   ]
  },
  {
   "cell_type": "markdown",
   "metadata": {},
   "source": [
    "# 回测"
   ]
  },
  {
   "cell_type": "code",
   "execution_count": 11,
   "metadata": {},
   "outputs": [
    {
     "ename": "ModuleNotFoundError",
     "evalue": "No module named 'Backtests'",
     "output_type": "error",
     "traceback": [
      "\u001b[1;31m---------------------------------------------------------------------------\u001b[0m",
      "\u001b[1;31mModuleNotFoundError\u001b[0m                       Traceback (most recent call last)",
      "Cell \u001b[1;32mIn[11], line 3\u001b[0m\n\u001b[0;32m      1\u001b[0m \u001b[38;5;28;01mimport\u001b[39;00m \u001b[38;5;21;01mimportlib\u001b[39;00m\n\u001b[0;32m      2\u001b[0m \u001b[38;5;28;01mfrom\u001b[39;00m \u001b[38;5;21;01mUtils\u001b[39;00m \u001b[38;5;28;01mimport\u001b[39;00m Strategy\n\u001b[1;32m----> 3\u001b[0m \u001b[43mimportlib\u001b[49m\u001b[38;5;241;43m.\u001b[39;49m\u001b[43mreload\u001b[49m\u001b[43m(\u001b[49m\u001b[43mStrategy\u001b[49m\u001b[43m)\u001b[49m\n\u001b[0;32m      4\u001b[0m \u001b[38;5;28;01mfrom\u001b[39;00m \u001b[38;5;21;01mUtils\u001b[39;00m\u001b[38;5;21;01m.\u001b[39;00m\u001b[38;5;21;01mStrategy\u001b[39;00m \u001b[38;5;28;01mimport\u001b[39;00m \u001b[38;5;241m*\u001b[39m\n\u001b[0;32m      6\u001b[0m startday\u001b[38;5;241m=\u001b[39m\u001b[38;5;124m'\u001b[39m\u001b[38;5;124m2023-12-01\u001b[39m\u001b[38;5;124m'\u001b[39m\n",
      "File \u001b[1;32md:\\CODEING\\Anaconda\\envs\\Pytorch\\lib\\importlib\\__init__.py:169\u001b[0m, in \u001b[0;36mreload\u001b[1;34m(module)\u001b[0m\n\u001b[0;32m    167\u001b[0m \u001b[38;5;28;01mif\u001b[39;00m spec \u001b[38;5;129;01mis\u001b[39;00m \u001b[38;5;28;01mNone\u001b[39;00m:\n\u001b[0;32m    168\u001b[0m     \u001b[38;5;28;01mraise\u001b[39;00m \u001b[38;5;167;01mModuleNotFoundError\u001b[39;00m(\u001b[38;5;124mf\u001b[39m\u001b[38;5;124m\"\u001b[39m\u001b[38;5;124mspec not found for the module \u001b[39m\u001b[38;5;132;01m{\u001b[39;00mname\u001b[38;5;132;01m!r}\u001b[39;00m\u001b[38;5;124m\"\u001b[39m, name\u001b[38;5;241m=\u001b[39mname)\n\u001b[1;32m--> 169\u001b[0m \u001b[43m_bootstrap\u001b[49m\u001b[38;5;241;43m.\u001b[39;49m\u001b[43m_exec\u001b[49m\u001b[43m(\u001b[49m\u001b[43mspec\u001b[49m\u001b[43m,\u001b[49m\u001b[43m \u001b[49m\u001b[43mmodule\u001b[49m\u001b[43m)\u001b[49m\n\u001b[0;32m    170\u001b[0m \u001b[38;5;66;03m# The module may have replaced itself in sys.modules!\u001b[39;00m\n\u001b[0;32m    171\u001b[0m \u001b[38;5;28;01mreturn\u001b[39;00m sys\u001b[38;5;241m.\u001b[39mmodules[name]\n",
      "File \u001b[1;32m<frozen importlib._bootstrap>:604\u001b[0m, in \u001b[0;36m_exec\u001b[1;34m(spec, module)\u001b[0m\n",
      "File \u001b[1;32m<frozen importlib._bootstrap_external>:843\u001b[0m, in \u001b[0;36mexec_module\u001b[1;34m(self, module)\u001b[0m\n",
      "File \u001b[1;32m<frozen importlib._bootstrap>:219\u001b[0m, in \u001b[0;36m_call_with_frames_removed\u001b[1;34m(f, *args, **kwds)\u001b[0m\n",
      "File \u001b[1;32md:\\File\\QuantitativeTrading\\Notebook\\Utils\\Strategy.py:11\u001b[0m\n\u001b[0;32m      8\u001b[0m \u001b[38;5;28;01mimport\u001b[39;00m \u001b[38;5;21;01mnumpy\u001b[39;00m \u001b[38;5;28;01mas\u001b[39;00m \u001b[38;5;21;01mnp\u001b[39;00m\n\u001b[0;32m      9\u001b[0m \u001b[38;5;28;01mimport\u001b[39;00m \u001b[38;5;21;01mpandas\u001b[39;00m \u001b[38;5;28;01mas\u001b[39;00m \u001b[38;5;21;01mpd\u001b[39;00m\n\u001b[1;32m---> 11\u001b[0m \u001b[38;5;28;01mimport\u001b[39;00m \u001b[38;5;21;01mBacktests\u001b[39;00m\n\u001b[0;32m     12\u001b[0m \u001b[38;5;28;01mimport\u001b[39;00m \u001b[38;5;21;01mUtils\u001b[39;00m\n\u001b[0;32m     13\u001b[0m \u001b[38;5;28;01mimport\u001b[39;00m \u001b[38;5;21;01mimportlib\u001b[39;00m\n",
      "\u001b[1;31mModuleNotFoundError\u001b[0m: No module named 'Backtests'"
     ]
    }
   ],
   "source": [
    "import importlib\n",
    "from Utils import Strategy\n",
    "importlib.reload(Strategy)\n",
    "from Utils.Strategy import *\n",
    "\n",
    "startday='2023-12-01'\n",
    "sig=1.5\n",
    "backtesting = MyStrategy([stkdf_dict[columns[0]],stkdf_dict[columns[1]]],startday,sig)\n",
    "backtesting.run()\n",
    "backtesting.show()\n",
    "\n"
   ]
  },
  {
   "cell_type": "code",
   "execution_count": null,
   "metadata": {},
   "outputs": [],
   "source": [
    "import matplotlib.pyplot as plt\n",
    "def show(hist):\n",
    "    # Plot portfolio value\n",
    "    sns.lineplot(pd.DataFrame(hist)['portfolio_value'])\n",
    "\n",
    "    # Calculate maximum drawdown\n",
    "    portfolio_values = pd.DataFrame(hist)['portfolio_value']\n",
    "    running_max = portfolio_values.cummax()  # cumulative maximum value\n",
    "    drawdown = (portfolio_values - running_max) / running_max  # drawdown from running max\n",
    "    max_drawdown = drawdown.min()  # maximum drawdown value\n",
    "\n",
    "    # Show maximum drawdown on the plot\n",
    "    plt.title(f\"Portfolio Value - Max Drawdown: {max_drawdown:.2%}\")\n",
    "    plt.show()\n",
    "hist=backtesting.backtest.history\n",
    "show(hist)"
   ]
  },
  {
   "cell_type": "code",
   "execution_count": null,
   "metadata": {},
   "outputs": [],
   "source": []
  }
 ],
 "metadata": {
  "kernelspec": {
   "display_name": "Pytorch",
   "language": "python",
   "name": "python3"
  },
  "language_info": {
   "codemirror_mode": {
    "name": "ipython",
    "version": 3
   },
   "file_extension": ".py",
   "mimetype": "text/x-python",
   "name": "python",
   "nbconvert_exporter": "python",
   "pygments_lexer": "ipython3",
   "version": "3.8.20"
  }
 },
 "nbformat": 4,
 "nbformat_minor": 2
}
