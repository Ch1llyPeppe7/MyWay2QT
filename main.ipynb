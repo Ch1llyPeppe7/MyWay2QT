{
 "cells": [
  {
   "cell_type": "markdown",
   "metadata": {},
   "source": [
    "# 数据集准备"
   ]
  },
  {
   "cell_type": "markdown",
   "metadata": {},
   "source": [
    "## 函数库"
   ]
  },
  {
   "cell_type": "code",
   "execution_count": 1,
   "metadata": {},
   "outputs": [],
   "source": [
    "import plotly.express as px\n",
    "import pandas as pd\n",
    "import numpy as np\n",
    "\n",
    "start='2023-12-01'\n",
    "end='2024-11-30'\n",
    "def Interplolate(df,time,order=2):\n",
    "    df.loc[:,time]=pd.to_datetime(df[time])\n",
    "    df.set_index(time,inplace=True)\n",
    "    date_range = pd.date_range(start=start, end=end, freq='D')\n",
    "    df = df[start:end].reindex(date_range)\n",
    "    if np.isnan(df.iloc[0].item()):\n",
    "        df.iloc[0]=df.mean().item()\n",
    "    return df,df.interpolate(method='spline',order=order)\n",
    "\n",
    "def BfAfInterplolate(df,df_filled):\n",
    "    fig = px.line(x=df.index, y=df[df.columns[0]], line_shape='linear', title=\"Yield over Time\")\n",
    "\n",
    "    fig.add_scatter(x=df_filled.index, y=df_filled[df_filled.columns[0]], mode='lines', name=\"Interpolated Data\", line=dict(color='red'))\n",
    "    var=np.var(df_filled.to_numpy())\n",
    "    mean=np.mean(df_filled.to_numpy())\n",
    "    fig.update_traces(connectgaps=False)\n",
    "    fig.update_layout(\n",
    "        title=\"Yield over Time\",\n",
    "        xaxis_title=\"Date\",\n",
    "        yaxis_title=\"Yield(%)\",\n",
    "        legend_title=\"Data\",\n",
    "        legend=dict(\n",
    "            title=\"Legend\",\n",
    "            x=1,\n",
    "            y=1\n",
    "        )\n",
    "    )\n",
    "   \n",
    "    fig.add_annotation(\n",
    "        x=df_filled.index[len(df_filled)//2],  # 放置注释的x位置\n",
    "        y=max(df_filled[df_filled.columns[0]]),  # 放置注释的y位置\n",
    "        text=f\"Variance: {var:.4f}Mean: {mean:.4f}\",  # 方差值，保留四位小数\n",
    "        showarrow=False,  # 不显示箭头\n",
    "        font=dict(size=12, color='black'),  # 设置字体大小和颜色\n",
    "        bgcolor='white'  # 背景颜色\n",
    "    )\n",
    " \n",
    "    fig.show()\n",
    "\n",
    "def CalYield(Clsprc):\n",
    "    e=Clsprc.to_numpy()\n",
    "    e_filled = np.zeros(e.shape[0] + 1) \n",
    "    e_filled[1:]=e\n",
    "    e_filled[0]=2*e[0]-e[1]\n",
    "    Yield=np.log(e_filled[1:]/e_filled[:-1])*100\n",
    "    return Yield\n",
    "    \n",
    "def StkProcessing(df,time,code,columns):\n",
    "    df=df[df['Filling']==0]\n",
    "    df_dict={}\n",
    "    for column in columns:\n",
    "        col_df = df[df[code].notnull()][[time,code, column]]\n",
    "        col_df = col_df.pivot(index=time, columns=code, values=column)\n",
    "        df_dict[column] = col_df\n",
    "\n",
    "    return df_dict\n"
   ]
  },
  {
   "cell_type": "markdown",
   "metadata": {},
   "source": [
    "## 数据清洗"
   ]
  },
  {
   "cell_type": "code",
   "execution_count": 2,
   "metadata": {},
   "outputs": [],
   "source": [
    "import pandas as pd\n",
    "import numpy as np\n",
    "Market=pd.read_csv('data/TRD_Cndalym.csv')\n",
    "Amarket=Market[Market['Markettype']==5]\n",
    "Amarket.loc[:,'Cdretmdos'] = Amarket['Cdretmdos'] * 100\n",
    "marketflow=Amarket[['Trddt','Cdretmdos']]\n",
    "\n",
    "lowrisk=pd.read_csv('data/BND_TreasYield.csv')\n",
    "lowrisk=lowrisk[lowrisk['Cvtype']==2]\n",
    "lowrisk_1y=lowrisk[lowrisk['Yeartomatu']==1][['Trddt','Yield']]\n",
    "lowrisk_1y.loc[:,'Yield']=lowrisk_1y['Yield'].astype(np.float64)/365\n",
    "lowrisk_1y,lowrisk_1y_filled=Interplolate(lowrisk_1y,'Trddt')\n",
    "\n",
    "marketflow,marketflow_filled=Interplolate(marketflow,'Trddt',1)\n",
    "filled_datalist=[marketflow_filled,lowrisk_1y_filled]\n",
    "datalist=[marketflow,lowrisk_1y]\n",
    "\n"
   ]
  },
  {
   "cell_type": "code",
   "execution_count": 3,
   "metadata": {},
   "outputs": [
    {
     "name": "stdout",
     "output_type": "stream",
     "text": [
      "Stock_dict loaded from SavedDataset/SaveData.pth\n"
     ]
    }
   ],
   "source": [
    "from Models.Dataset import *\n",
    "\n",
    "time='TradingDate'\n",
    "code='Symbol'\n",
    "start='2023-12-01'\n",
    "end='2024-11-30'\n",
    "load=True\n",
    "save_path='SavedDataset/SaveData.pth'\n",
    "files = [f'data/TRD_FwardQuotation{i}.csv' for i in range(1, 7)]\n",
    "columns=['OpenPrice','ClosePrice','TurnoverRate1','MarketValue','CirculatedMarketValue']\n",
    "\n",
    "datadict={\"columns\":columns,\"files\":files,\n",
    "          \"time_field\":time,\"code_field\":code,\"start\":start,\n",
    "        \"end\":end,\"load\":load,\"save_path\":save_path}\n",
    "StockData=Stocks(datadict)\n"
   ]
  },
  {
   "cell_type": "code",
   "execution_count": null,
   "metadata": {},
   "outputs": [],
   "source": []
  },
  {
   "cell_type": "code",
   "execution_count": null,
   "metadata": {},
   "outputs": [],
   "source": []
  },
  {
   "cell_type": "markdown",
   "metadata": {},
   "source": [
    "## 数据集划分"
   ]
  },
  {
   "cell_type": "code",
   "execution_count": 4,
   "metadata": {},
   "outputs": [],
   "source": [
    "# #spilt\n",
    "# def split(datalist, a=0.8):\n",
    "#     train_datas = []\n",
    "#     test_datas = []\n",
    "    \n",
    "#     for df in datalist:\n",
    "#         # 获取数据的分割点\n",
    "#         train_size = int(len(df) * a)  # 计算训练集的大小\n",
    "        \n",
    "#         # 切割数据集\n",
    "#         train_data = df.iloc[:train_size]  # 前 a% 的数据作为训练集\n",
    "#         test_data = df.iloc[train_size:]  # 剩余的数据作为测试集\n",
    "        \n",
    "#         # 添加到对应的列表\n",
    "#         train_datas.append(train_data)\n",
    "#         test_datas.append(test_data)\n",
    "    \n",
    "#     return train_datas, test_datas\n",
    "# train_datas,test_datas=split(filled_datalist)\n",
    "# org_train,org_test=split(datalist)\n"
   ]
  },
  {
   "cell_type": "markdown",
   "metadata": {},
   "source": [
    "## 收益率曲线展示"
   ]
  },
  {
   "cell_type": "code",
   "execution_count": 5,
   "metadata": {},
   "outputs": [],
   "source": [
    "# for df,filled_df,test_df,filled_test_df in zip(org_train,train_datas,org_test,test_datas):\n",
    "#     BfAfInterplolate(df,filled_df)\n",
    "#     BfAfInterplolate(test_df,filled_test_df)"
   ]
  },
  {
   "cell_type": "markdown",
   "metadata": {},
   "source": [
    "# 收益率溢价评估"
   ]
  },
  {
   "cell_type": "markdown",
   "metadata": {},
   "source": [
    "## CAPM"
   ]
  },
  {
   "cell_type": "code",
   "execution_count": 6,
   "metadata": {},
   "outputs": [],
   "source": [
    "# stk_index=np.arange(len(train_datas))[2:]\n",
    "# def CalBetas(datalist,market_index,stk_index):\n",
    "#     betas=[]\n",
    "#     for i in stk_index:\n",
    "#         cov=np.cov(datalist[i].to_numpy().flatten(),datalist[market_index].to_numpy().flatten())\n",
    "#         betai=cov[0,1]/cov[1,1]\n",
    "#         betas.append(betai)\n",
    "#     return betas\n",
    "\n",
    "# def CalERi(datalist,betas,market_index,lowrisk_index,episilon=0):\n",
    "#     m=np.array(datalist)[market_index].squeeze(1)\n",
    "#     l=np.array(datalist)[lowrisk_index].squeeze(1)\n",
    "#     delta=m-l\n",
    "#     return np.array(betas).reshape(-1,1)@delta.reshape(1,-1)+l\n",
    "\n",
    "# def GetCovMatrix(datalist,stk_index):\n",
    "#     return np.cov(np.array(datalist)[stk_index].squeeze(2),rowvar=True)\n",
    "\n",
    "# betas=CalBetas(train_datas,0,stk_index)\n",
    "# ERi=CalERi(train_datas,betas,0,1)\n",
    "# CovMatrix=GetCovMatrix(train_datas,stk_index)\n",
    "\n"
   ]
  },
  {
   "cell_type": "markdown",
   "metadata": {},
   "source": [
    "## 资产组合优化"
   ]
  },
  {
   "cell_type": "markdown",
   "metadata": {},
   "source": [
    "## numpy解析法"
   ]
  },
  {
   "cell_type": "code",
   "execution_count": 7,
   "metadata": {},
   "outputs": [],
   "source": [
    "# def minimize_sigma(sigma,u,u_star):\n",
    "#     '''np方法得到给定收益率期望下使得风险系数最小的权重向量解析解'''\n",
    "#     one=np.zeros((u.shape[0],1))+1\n",
    "#     inv_sigma=np.linalg.inv(sigma)\n",
    "#     A=np.concatenate((one.T,u.T))\n",
    "#     P1=one.T@inv_sigma@A.T\n",
    "#     P2=u.T@inv_sigma@A.T\n",
    "#     P=np.concatenate((P1,P2))\n",
    "#     b=np.matrix([1,u_star]).reshape(2,1)\n",
    "#     lambdas=np.linalg.solve(P,b)\n",
    "#     return lambdas.T@A@inv_sigma\n",
    "\n",
    "# u=ERi[:,100].reshape(ERi.shape[0],1)\n",
    "# w=minimize_sigma(CovMatrix,u,1)\n",
    "\n",
    "# U=w@u\n",
    "# var=w@CovMatrix@w.T\n",
    "\n",
    "# print(w)\n",
    "# print(U/np.sqrt(var))"
   ]
  },
  {
   "cell_type": "markdown",
   "metadata": {},
   "source": [
    "## cvxpy凸优化库二次规划"
   ]
  },
  {
   "cell_type": "code",
   "execution_count": 8,
   "metadata": {},
   "outputs": [],
   "source": [
    "# import cvxpy as cp\n",
    "# def cp_minimize_sigma(CovMatrix,u,ustar):\n",
    "#     w=cp.Variable(u.shape[0])\n",
    "\n",
    "#     objective=cp.Minimize(cp.quad_form(w,CovMatrix))\n",
    "\n",
    "#     constrains=[cp.sum(w)==1,w>=0,w@u>=ustar]\n",
    "\n",
    "#     problem=cp.Problem(objective,constrains)\n",
    "#     problem.solve()\n",
    "#     if problem.status not in [\"infeasible\", \"unbounded\"]:\n",
    "#         return w.value,cp.quad_form(w,CovMatrix).value\n",
    "#     else:\n",
    "#         raise ValueError(\"minimize Optimization did not succeed. Status: \" + problem.status)\n",
    "# def cp_maximize_u(CovMatrix,u,sig):\n",
    "#     w=cp.Variable(u.shape[0])\n",
    "\n",
    "#     objective=cp.Maximize(w@u)\n",
    "\n",
    "#     constrains=[cp.sum(w)==1,w>=0,cp.quad_form(w,CovMatrix)<=sig]\n",
    "\n",
    "#     problem=cp.Problem(objective,constrains)\n",
    "#     problem.solve()\n",
    "#     if problem.status not in [\"infeasible\", \"unbounded\"]:\n",
    "#         return w.value,cp.quad_form(w,CovMatrix).value\n",
    "#     else:\n",
    "#         raise ValueError(\"maximize Optimization did not succeed. Status: \" + problem.status)\n",
    "# ustar=0.08\n",
    "# sig=1.2\n",
    "# w1,s1=cp_maximize_u(CovMatrix,u,sig)\n",
    "# w2,s2=cp_minimize_sigma(CovMatrix,u,ustar)\n",
    "\n",
    "# print(w1@u/np.sqrt(s1),w1@u,s1)\n",
    "# print(w2@u/np.sqrt(s2),w2@u,s2)\n"
   ]
  },
  {
   "cell_type": "markdown",
   "metadata": {},
   "source": [
    "# 回测"
   ]
  },
  {
   "cell_type": "code",
   "execution_count": null,
   "metadata": {},
   "outputs": [
    {
     "name": "stderr",
     "output_type": "stream",
     "text": [
      "2024-12-09 19:33:08,486 - INFO - Logging system initialized.\n"
     ]
    },
    {
     "ename": "KeyboardInterrupt",
     "evalue": "",
     "output_type": "error",
     "traceback": [
      "\u001b[1;31m---------------------------------------------------------------------------\u001b[0m",
      "\u001b[1;31mKeyboardInterrupt\u001b[0m                         Traceback (most recent call last)",
      "Cell \u001b[1;32mIn[10], line 9\u001b[0m\n\u001b[0;32m      7\u001b[0m sig\u001b[38;5;241m=\u001b[39m\u001b[38;5;241m1.5\u001b[39m\n\u001b[0;32m      8\u001b[0m backtesting \u001b[38;5;241m=\u001b[39m MyStrategy([StockData\u001b[38;5;241m.\u001b[39mStock_dict[columns[\u001b[38;5;241m0\u001b[39m]],StockData\u001b[38;5;241m.\u001b[39mStock_dict[columns[\u001b[38;5;241m1\u001b[39m]]],startday,sig)\n\u001b[1;32m----> 9\u001b[0m \u001b[43mbacktesting\u001b[49m\u001b[38;5;241;43m.\u001b[39;49m\u001b[43mrun\u001b[49m\u001b[43m(\u001b[49m\u001b[43m)\u001b[49m\n\u001b[0;32m     10\u001b[0m backtesting\u001b[38;5;241m.\u001b[39mshow()\n",
      "File \u001b[1;32md:\\File\\QuantitativeTrading\\Notebook\\Models\\Strategy.py:131\u001b[0m, in \u001b[0;36mMyStrategy.run\u001b[1;34m(self)\u001b[0m\n\u001b[0;32m    130\u001b[0m \u001b[38;5;28;01mdef\u001b[39;00m \u001b[38;5;21mrun\u001b[39m(\u001b[38;5;28mself\u001b[39m):\n\u001b[1;32m--> 131\u001b[0m     \u001b[38;5;28;43msuper\u001b[39;49m\u001b[43m(\u001b[49m\u001b[43m)\u001b[49m\u001b[38;5;241;43m.\u001b[39;49m\u001b[43mrun\u001b[49m\u001b[43m(\u001b[49m\u001b[43m)\u001b[49m\n",
      "File \u001b[1;32md:\\File\\QuantitativeTrading\\Notebook\\Models\\Strategy.py:27\u001b[0m, in \u001b[0;36mStrategy.run\u001b[1;34m(self)\u001b[0m\n\u001b[0;32m     26\u001b[0m \u001b[38;5;28;01mdef\u001b[39;00m \u001b[38;5;21mrun\u001b[39m(\u001b[38;5;28mself\u001b[39m):\n\u001b[1;32m---> 27\u001b[0m     \u001b[38;5;28;43mself\u001b[39;49m\u001b[38;5;241;43m.\u001b[39;49m\u001b[43mbacktest\u001b[49m\u001b[38;5;241;43m.\u001b[39;49m\u001b[43mrun\u001b[49m\u001b[43m(\u001b[49m\u001b[43m)\u001b[49m\n",
      "File \u001b[1;32md:\\File\\QuantitativeTrading\\Notebook\\Models\\Backtest.py:53\u001b[0m, in \u001b[0;36mBacktest.run\u001b[1;34m(self)\u001b[0m\n\u001b[0;32m     51\u001b[0m \u001b[38;5;28;01mfor\u001b[39;00m \u001b[38;5;28mself\u001b[39m\u001b[38;5;241m.\u001b[39mdate, row \u001b[38;5;129;01min\u001b[39;00m \u001b[38;5;28mself\u001b[39m\u001b[38;5;241m.\u001b[39mOprc\u001b[38;5;241m.\u001b[39mloc[\u001b[38;5;28mself\u001b[39m\u001b[38;5;241m.\u001b[39mstartday:]\u001b[38;5;241m.\u001b[39miterrows():\n\u001b[0;32m     52\u001b[0m     \u001b[38;5;28mself\u001b[39m\u001b[38;5;241m.\u001b[39mprices\u001b[38;5;241m=\u001b[39mrow\u001b[38;5;241m.\u001b[39mto_numpy()\n\u001b[1;32m---> 53\u001b[0m     sell\u001b[38;5;241m=\u001b[39m\u001b[38;5;28mself\u001b[39m\u001b[38;5;241m.\u001b[39m_sell(\u001b[38;5;28;43mself\u001b[39;49m\u001b[38;5;241;43m.\u001b[39;49m\u001b[43mSS\u001b[49m\u001b[43m(\u001b[49m\u001b[38;5;28;43mself\u001b[39;49m\u001b[38;5;241;43m.\u001b[39;49m\u001b[43mstock_data\u001b[49m\u001b[38;5;241;43m.\u001b[39;49m\u001b[43mloc\u001b[49m\u001b[43m[\u001b[49m\u001b[43m:\u001b[49m\u001b[38;5;28;43mself\u001b[39;49m\u001b[38;5;241;43m.\u001b[39;49m\u001b[43mdate\u001b[49m\u001b[43m]\u001b[49m\u001b[43m)\u001b[49m)\n\u001b[0;32m     54\u001b[0m     buy\u001b[38;5;241m=\u001b[39m\u001b[38;5;28mself\u001b[39m\u001b[38;5;241m.\u001b[39m_buy(\u001b[38;5;28mself\u001b[39m\u001b[38;5;241m.\u001b[39mBS(\u001b[38;5;28mself\u001b[39m\u001b[38;5;241m.\u001b[39mstock_data\u001b[38;5;241m.\u001b[39mloc[:\u001b[38;5;28mself\u001b[39m\u001b[38;5;241m.\u001b[39mdate]))\n\u001b[0;32m     55\u001b[0m     \u001b[38;5;28mself\u001b[39m\u001b[38;5;241m.\u001b[39mhistory\u001b[38;5;241m.\u001b[39mappend({\n\u001b[0;32m     56\u001b[0m         \u001b[38;5;124m'\u001b[39m\u001b[38;5;124mdate\u001b[39m\u001b[38;5;124m'\u001b[39m: \u001b[38;5;28mself\u001b[39m\u001b[38;5;241m.\u001b[39mdate,\n\u001b[0;32m     57\u001b[0m         \u001b[38;5;124m'\u001b[39m\u001b[38;5;124mcash\u001b[39m\u001b[38;5;124m'\u001b[39m: \u001b[38;5;28mself\u001b[39m\u001b[38;5;241m.\u001b[39mcash,\n\u001b[1;32m   (...)\u001b[0m\n\u001b[0;32m     60\u001b[0m         \u001b[38;5;124m'\u001b[39m\u001b[38;5;124mchanged\u001b[39m\u001b[38;5;124m'\u001b[39m:sell\u001b[38;5;241m|\u001b[39mbuy\n\u001b[0;32m     61\u001b[0m     })\n",
      "File \u001b[1;32md:\\File\\QuantitativeTrading\\Notebook\\Models\\Strategy.py:113\u001b[0m, in \u001b[0;36mMyStrategy.sell_strategy\u001b[1;34m(self, Clprc)\u001b[0m\n\u001b[0;32m    111\u001b[0m sell_signals \u001b[38;5;241m=\u001b[39m {}\n\u001b[0;32m    112\u001b[0m \u001b[38;5;28;01mif\u001b[39;00m \u001b[38;5;28mself\u001b[39m\u001b[38;5;241m.\u001b[39mbacktest\u001b[38;5;241m.\u001b[39mday \u001b[38;5;241m%\u001b[39m \u001b[38;5;241m30\u001b[39m \u001b[38;5;241m==\u001b[39m \u001b[38;5;241m0\u001b[39m:\n\u001b[1;32m--> 113\u001b[0m     changes, position_idxs \u001b[38;5;241m=\u001b[39m \u001b[38;5;28;43mself\u001b[39;49m\u001b[38;5;241;43m.\u001b[39;49m\u001b[43mRefresh_Position\u001b[49m\u001b[43m(\u001b[49m\u001b[43mClprc\u001b[49m\u001b[43m)\u001b[49m\n\u001b[0;32m    114\u001b[0m     \u001b[38;5;28;01mif\u001b[39;00m changes \u001b[38;5;129;01mis\u001b[39;00m \u001b[38;5;28;01mNone\u001b[39;00m:\n\u001b[0;32m    115\u001b[0m         \u001b[38;5;28;01mreturn\u001b[39;00m sell_signals\n",
      "File \u001b[1;32md:\\File\\QuantitativeTrading\\Notebook\\Models\\Strategy.py:72\u001b[0m, in \u001b[0;36mMyStrategy.Refresh_Position\u001b[1;34m(self, Clprc)\u001b[0m\n\u001b[0;32m     69\u001b[0m \u001b[38;5;28;01mdef\u001b[39;00m \u001b[38;5;21mRefresh_Position\u001b[39m(\u001b[38;5;28mself\u001b[39m, Clprc):\n\u001b[0;32m     70\u001b[0m     \u001b[38;5;66;03m# logging.debug(f\"Refreshing positions for day {self.backtest.day}\")\u001b[39;00m\n\u001b[0;32m     71\u001b[0m     Oprc \u001b[38;5;241m=\u001b[39m \u001b[38;5;28mself\u001b[39m\u001b[38;5;241m.\u001b[39mbacktest\u001b[38;5;241m.\u001b[39mprices\n\u001b[1;32m---> 72\u001b[0m     idxs, Yield \u001b[38;5;241m=\u001b[39m \u001b[43mSelectStks\u001b[49m\u001b[43m(\u001b[49m\u001b[43mClprc\u001b[49m\u001b[38;5;241;43m.\u001b[39;49m\u001b[43miloc\u001b[49m\u001b[43m[\u001b[49m\u001b[43m:\u001b[49m\u001b[38;5;241;43m-\u001b[39;49m\u001b[38;5;241;43m1\u001b[39;49m\u001b[43m]\u001b[49m\u001b[43m)\u001b[49m\n\u001b[0;32m     74\u001b[0m     \u001b[38;5;28;01mif\u001b[39;00m idxs\u001b[38;5;241m.\u001b[39mshape[\u001b[38;5;241m0\u001b[39m] \u001b[38;5;241m==\u001b[39m \u001b[38;5;241m0\u001b[39m:\n\u001b[0;32m     75\u001b[0m         \u001b[38;5;28;01mreturn\u001b[39;00m \u001b[38;5;28;01mNone\u001b[39;00m, \u001b[38;5;28;01mNone\u001b[39;00m\n",
      "File \u001b[1;32md:\\File\\QuantitativeTrading\\Notebook\\Models\\Utils.py:32\u001b[0m, in \u001b[0;36mSelectStks\u001b[1;34m(df, infostar)\u001b[0m\n\u001b[0;32m     31\u001b[0m \u001b[38;5;28;01mdef\u001b[39;00m \u001b[38;5;21mSelectStks\u001b[39m(df,infostar\u001b[38;5;241m=\u001b[39m\u001b[38;5;241m0.05\u001b[39m):\n\u001b[1;32m---> 32\u001b[0m     m\u001b[38;5;241m=\u001b[39mtorch\u001b[38;5;241m.\u001b[39mtensor(\u001b[43mdf\u001b[49m\u001b[38;5;241;43m.\u001b[39;49m\u001b[43mfillna\u001b[49m\u001b[43m(\u001b[49m\u001b[43mdf\u001b[49m\u001b[38;5;241;43m.\u001b[39;49m\u001b[43mmean\u001b[49m\u001b[43m(\u001b[49m\u001b[43m)\u001b[49m\u001b[43m)\u001b[49m\u001b[38;5;241m.\u001b[39mto_numpy())\n\u001b[0;32m     33\u001b[0m     m[torch\u001b[38;5;241m.\u001b[39misnan(m)]\u001b[38;5;241m=\u001b[39m\u001b[38;5;241m-\u001b[39m\u001b[38;5;241m1\u001b[39m\n\u001b[0;32m     34\u001b[0m     m\u001b[38;5;241m=\u001b[39mm\u001b[38;5;241m.\u001b[39mto(device)\n",
      "File \u001b[1;32md:\\CODEING\\Anaconda\\envs\\Pytorch\\lib\\site-packages\\pandas\\core\\frame.py:5493\u001b[0m, in \u001b[0;36mDataFrame.fillna\u001b[1;34m(self, value, method, axis, inplace, limit, downcast)\u001b[0m\n\u001b[0;32m   5482\u001b[0m \u001b[38;5;129m@doc\u001b[39m(NDFrame\u001b[38;5;241m.\u001b[39mfillna, \u001b[38;5;241m*\u001b[39m\u001b[38;5;241m*\u001b[39m_shared_doc_kwargs)\n\u001b[0;32m   5483\u001b[0m \u001b[38;5;28;01mdef\u001b[39;00m \u001b[38;5;21mfillna\u001b[39m(\n\u001b[0;32m   5484\u001b[0m     \u001b[38;5;28mself\u001b[39m,\n\u001b[1;32m   (...)\u001b[0m\n\u001b[0;32m   5491\u001b[0m     downcast: \u001b[38;5;28mdict\u001b[39m \u001b[38;5;241m|\u001b[39m \u001b[38;5;28;01mNone\u001b[39;00m \u001b[38;5;241m=\u001b[39m \u001b[38;5;28;01mNone\u001b[39;00m,\n\u001b[0;32m   5492\u001b[0m ) \u001b[38;5;241m-\u001b[39m\u001b[38;5;241m>\u001b[39m DataFrame \u001b[38;5;241m|\u001b[39m \u001b[38;5;28;01mNone\u001b[39;00m:\n\u001b[1;32m-> 5493\u001b[0m     \u001b[38;5;28;01mreturn\u001b[39;00m \u001b[38;5;28;43msuper\u001b[39;49m\u001b[43m(\u001b[49m\u001b[43m)\u001b[49m\u001b[38;5;241;43m.\u001b[39;49m\u001b[43mfillna\u001b[49m\u001b[43m(\u001b[49m\n\u001b[0;32m   5494\u001b[0m \u001b[43m        \u001b[49m\u001b[43mvalue\u001b[49m\u001b[38;5;241;43m=\u001b[39;49m\u001b[43mvalue\u001b[49m\u001b[43m,\u001b[49m\n\u001b[0;32m   5495\u001b[0m \u001b[43m        \u001b[49m\u001b[43mmethod\u001b[49m\u001b[38;5;241;43m=\u001b[39;49m\u001b[43mmethod\u001b[49m\u001b[43m,\u001b[49m\n\u001b[0;32m   5496\u001b[0m \u001b[43m        \u001b[49m\u001b[43maxis\u001b[49m\u001b[38;5;241;43m=\u001b[39;49m\u001b[43maxis\u001b[49m\u001b[43m,\u001b[49m\n\u001b[0;32m   5497\u001b[0m \u001b[43m        \u001b[49m\u001b[43minplace\u001b[49m\u001b[38;5;241;43m=\u001b[39;49m\u001b[43minplace\u001b[49m\u001b[43m,\u001b[49m\n\u001b[0;32m   5498\u001b[0m \u001b[43m        \u001b[49m\u001b[43mlimit\u001b[49m\u001b[38;5;241;43m=\u001b[39;49m\u001b[43mlimit\u001b[49m\u001b[43m,\u001b[49m\n\u001b[0;32m   5499\u001b[0m \u001b[43m        \u001b[49m\u001b[43mdowncast\u001b[49m\u001b[38;5;241;43m=\u001b[39;49m\u001b[43mdowncast\u001b[49m\u001b[43m,\u001b[49m\n\u001b[0;32m   5500\u001b[0m \u001b[43m    \u001b[49m\u001b[43m)\u001b[49m\n",
      "File \u001b[1;32md:\\CODEING\\Anaconda\\envs\\Pytorch\\lib\\site-packages\\pandas\\core\\generic.py:6932\u001b[0m, in \u001b[0;36mNDFrame.fillna\u001b[1;34m(self, value, method, axis, inplace, limit, downcast)\u001b[0m\n\u001b[0;32m   6924\u001b[0m \u001b[38;5;66;03m# error: Item \"None\" of \"Optional[Dict[Any, Any]]\" has no\u001b[39;00m\n\u001b[0;32m   6925\u001b[0m \u001b[38;5;66;03m# attribute \"get\"\u001b[39;00m\n\u001b[0;32m   6926\u001b[0m downcast_k \u001b[38;5;241m=\u001b[39m (\n\u001b[0;32m   6927\u001b[0m     downcast\n\u001b[0;32m   6928\u001b[0m     \u001b[38;5;28;01mif\u001b[39;00m \u001b[38;5;129;01mnot\u001b[39;00m is_dict\n\u001b[0;32m   6929\u001b[0m     \u001b[38;5;28;01melse\u001b[39;00m downcast\u001b[38;5;241m.\u001b[39mget(k)  \u001b[38;5;66;03m# type: ignore[union-attr]\u001b[39;00m\n\u001b[0;32m   6930\u001b[0m )\n\u001b[1;32m-> 6932\u001b[0m res_k \u001b[38;5;241m=\u001b[39m \u001b[43mresult\u001b[49m\u001b[43m[\u001b[49m\u001b[43mk\u001b[49m\u001b[43m]\u001b[49m\u001b[38;5;241;43m.\u001b[39;49m\u001b[43mfillna\u001b[49m\u001b[43m(\u001b[49m\u001b[43mv\u001b[49m\u001b[43m,\u001b[49m\u001b[43m \u001b[49m\u001b[43mlimit\u001b[49m\u001b[38;5;241;43m=\u001b[39;49m\u001b[43mlimit\u001b[49m\u001b[43m,\u001b[49m\u001b[43m \u001b[49m\u001b[43mdowncast\u001b[49m\u001b[38;5;241;43m=\u001b[39;49m\u001b[43mdowncast_k\u001b[49m\u001b[43m)\u001b[49m\n\u001b[0;32m   6934\u001b[0m \u001b[38;5;28;01mif\u001b[39;00m \u001b[38;5;129;01mnot\u001b[39;00m inplace:\n\u001b[0;32m   6935\u001b[0m     result[k] \u001b[38;5;241m=\u001b[39m res_k\n",
      "File \u001b[1;32md:\\CODEING\\Anaconda\\envs\\Pytorch\\lib\\site-packages\\pandas\\core\\series.py:5145\u001b[0m, in \u001b[0;36mSeries.fillna\u001b[1;34m(self, value, method, axis, inplace, limit, downcast)\u001b[0m\n\u001b[0;32m   5134\u001b[0m \u001b[38;5;129m@doc\u001b[39m(NDFrame\u001b[38;5;241m.\u001b[39mfillna, \u001b[38;5;241m*\u001b[39m\u001b[38;5;241m*\u001b[39m_shared_doc_kwargs)\n\u001b[0;32m   5135\u001b[0m \u001b[38;5;28;01mdef\u001b[39;00m \u001b[38;5;21mfillna\u001b[39m(\n\u001b[0;32m   5136\u001b[0m     \u001b[38;5;28mself\u001b[39m,\n\u001b[1;32m   (...)\u001b[0m\n\u001b[0;32m   5143\u001b[0m     downcast: \u001b[38;5;28mdict\u001b[39m \u001b[38;5;241m|\u001b[39m \u001b[38;5;28;01mNone\u001b[39;00m \u001b[38;5;241m=\u001b[39m \u001b[38;5;28;01mNone\u001b[39;00m,\n\u001b[0;32m   5144\u001b[0m ) \u001b[38;5;241m-\u001b[39m\u001b[38;5;241m>\u001b[39m Series \u001b[38;5;241m|\u001b[39m \u001b[38;5;28;01mNone\u001b[39;00m:\n\u001b[1;32m-> 5145\u001b[0m     \u001b[38;5;28;01mreturn\u001b[39;00m \u001b[38;5;28;43msuper\u001b[39;49m\u001b[43m(\u001b[49m\u001b[43m)\u001b[49m\u001b[38;5;241;43m.\u001b[39;49m\u001b[43mfillna\u001b[49m\u001b[43m(\u001b[49m\n\u001b[0;32m   5146\u001b[0m \u001b[43m        \u001b[49m\u001b[43mvalue\u001b[49m\u001b[38;5;241;43m=\u001b[39;49m\u001b[43mvalue\u001b[49m\u001b[43m,\u001b[49m\n\u001b[0;32m   5147\u001b[0m \u001b[43m        \u001b[49m\u001b[43mmethod\u001b[49m\u001b[38;5;241;43m=\u001b[39;49m\u001b[43mmethod\u001b[49m\u001b[43m,\u001b[49m\n\u001b[0;32m   5148\u001b[0m \u001b[43m        \u001b[49m\u001b[43maxis\u001b[49m\u001b[38;5;241;43m=\u001b[39;49m\u001b[43maxis\u001b[49m\u001b[43m,\u001b[49m\n\u001b[0;32m   5149\u001b[0m \u001b[43m        \u001b[49m\u001b[43minplace\u001b[49m\u001b[38;5;241;43m=\u001b[39;49m\u001b[43minplace\u001b[49m\u001b[43m,\u001b[49m\n\u001b[0;32m   5150\u001b[0m \u001b[43m        \u001b[49m\u001b[43mlimit\u001b[49m\u001b[38;5;241;43m=\u001b[39;49m\u001b[43mlimit\u001b[49m\u001b[43m,\u001b[49m\n\u001b[0;32m   5151\u001b[0m \u001b[43m        \u001b[49m\u001b[43mdowncast\u001b[49m\u001b[38;5;241;43m=\u001b[39;49m\u001b[43mdowncast\u001b[49m\u001b[43m,\u001b[49m\n\u001b[0;32m   5152\u001b[0m \u001b[43m    \u001b[49m\u001b[43m)\u001b[49m\n",
      "File \u001b[1;32md:\\CODEING\\Anaconda\\envs\\Pytorch\\lib\\site-packages\\pandas\\core\\generic.py:6904\u001b[0m, in \u001b[0;36mNDFrame.fillna\u001b[1;34m(self, value, method, axis, inplace, limit, downcast)\u001b[0m\n\u001b[0;32m   6897\u001b[0m     \u001b[38;5;28;01melse\u001b[39;00m:\n\u001b[0;32m   6898\u001b[0m         \u001b[38;5;28;01mraise\u001b[39;00m \u001b[38;5;167;01mTypeError\u001b[39;00m(\n\u001b[0;32m   6899\u001b[0m             \u001b[38;5;124m'\u001b[39m\u001b[38;5;124m\"\u001b[39m\u001b[38;5;124mvalue\u001b[39m\u001b[38;5;124m\"\u001b[39m\u001b[38;5;124m parameter must be a scalar, dict \u001b[39m\u001b[38;5;124m'\u001b[39m\n\u001b[0;32m   6900\u001b[0m             \u001b[38;5;124m\"\u001b[39m\u001b[38;5;124mor Series, but you passed a \u001b[39m\u001b[38;5;124m\"\u001b[39m\n\u001b[0;32m   6901\u001b[0m             \u001b[38;5;124mf\u001b[39m\u001b[38;5;124m'\u001b[39m\u001b[38;5;124m\"\u001b[39m\u001b[38;5;132;01m{\u001b[39;00m\u001b[38;5;28mtype\u001b[39m(value)\u001b[38;5;241m.\u001b[39m\u001b[38;5;18m__name__\u001b[39m\u001b[38;5;132;01m}\u001b[39;00m\u001b[38;5;124m\"\u001b[39m\u001b[38;5;124m'\u001b[39m\n\u001b[0;32m   6902\u001b[0m         )\n\u001b[1;32m-> 6904\u001b[0m     new_data \u001b[38;5;241m=\u001b[39m \u001b[38;5;28;43mself\u001b[39;49m\u001b[38;5;241;43m.\u001b[39;49m\u001b[43m_mgr\u001b[49m\u001b[38;5;241;43m.\u001b[39;49m\u001b[43mfillna\u001b[49m\u001b[43m(\u001b[49m\n\u001b[0;32m   6905\u001b[0m \u001b[43m        \u001b[49m\u001b[43mvalue\u001b[49m\u001b[38;5;241;43m=\u001b[39;49m\u001b[43mvalue\u001b[49m\u001b[43m,\u001b[49m\u001b[43m \u001b[49m\u001b[43mlimit\u001b[49m\u001b[38;5;241;43m=\u001b[39;49m\u001b[43mlimit\u001b[49m\u001b[43m,\u001b[49m\u001b[43m \u001b[49m\u001b[43minplace\u001b[49m\u001b[38;5;241;43m=\u001b[39;49m\u001b[43minplace\u001b[49m\u001b[43m,\u001b[49m\u001b[43m \u001b[49m\u001b[43mdowncast\u001b[49m\u001b[38;5;241;43m=\u001b[39;49m\u001b[43mdowncast\u001b[49m\n\u001b[0;32m   6906\u001b[0m \u001b[43m    \u001b[49m\u001b[43m)\u001b[49m\n\u001b[0;32m   6908\u001b[0m \u001b[38;5;28;01melif\u001b[39;00m \u001b[38;5;28misinstance\u001b[39m(value, (\u001b[38;5;28mdict\u001b[39m, ABCSeries)):\n\u001b[0;32m   6909\u001b[0m     \u001b[38;5;28;01mif\u001b[39;00m axis \u001b[38;5;241m==\u001b[39m \u001b[38;5;241m1\u001b[39m:\n",
      "File \u001b[1;32md:\\CODEING\\Anaconda\\envs\\Pytorch\\lib\\site-packages\\pandas\\core\\internals\\managers.py:433\u001b[0m, in \u001b[0;36mBaseBlockManager.fillna\u001b[1;34m(self, value, limit, inplace, downcast)\u001b[0m\n\u001b[0;32m    429\u001b[0m \u001b[38;5;28;01mif\u001b[39;00m limit \u001b[38;5;129;01mis\u001b[39;00m \u001b[38;5;129;01mnot\u001b[39;00m \u001b[38;5;28;01mNone\u001b[39;00m:\n\u001b[0;32m    430\u001b[0m     \u001b[38;5;66;03m# Do this validation even if we go through one of the no-op paths\u001b[39;00m\n\u001b[0;32m    431\u001b[0m     limit \u001b[38;5;241m=\u001b[39m libalgos\u001b[38;5;241m.\u001b[39mvalidate_limit(\u001b[38;5;28;01mNone\u001b[39;00m, limit\u001b[38;5;241m=\u001b[39mlimit)\n\u001b[1;32m--> 433\u001b[0m \u001b[38;5;28;01mreturn\u001b[39;00m \u001b[38;5;28;43mself\u001b[39;49m\u001b[38;5;241;43m.\u001b[39;49m\u001b[43mapply\u001b[49m\u001b[43m(\u001b[49m\n\u001b[0;32m    434\u001b[0m \u001b[43m    \u001b[49m\u001b[38;5;124;43m\"\u001b[39;49m\u001b[38;5;124;43mfillna\u001b[39;49m\u001b[38;5;124;43m\"\u001b[39;49m\u001b[43m,\u001b[49m\n\u001b[0;32m    435\u001b[0m \u001b[43m    \u001b[49m\u001b[43mvalue\u001b[49m\u001b[38;5;241;43m=\u001b[39;49m\u001b[43mvalue\u001b[49m\u001b[43m,\u001b[49m\n\u001b[0;32m    436\u001b[0m \u001b[43m    \u001b[49m\u001b[43mlimit\u001b[49m\u001b[38;5;241;43m=\u001b[39;49m\u001b[43mlimit\u001b[49m\u001b[43m,\u001b[49m\n\u001b[0;32m    437\u001b[0m \u001b[43m    \u001b[49m\u001b[43minplace\u001b[49m\u001b[38;5;241;43m=\u001b[39;49m\u001b[43minplace\u001b[49m\u001b[43m,\u001b[49m\n\u001b[0;32m    438\u001b[0m \u001b[43m    \u001b[49m\u001b[43mdowncast\u001b[49m\u001b[38;5;241;43m=\u001b[39;49m\u001b[43mdowncast\u001b[49m\u001b[43m,\u001b[49m\n\u001b[0;32m    439\u001b[0m \u001b[43m    \u001b[49m\u001b[43musing_cow\u001b[49m\u001b[38;5;241;43m=\u001b[39;49m\u001b[43musing_copy_on_write\u001b[49m\u001b[43m(\u001b[49m\u001b[43m)\u001b[49m\u001b[43m,\u001b[49m\n\u001b[0;32m    440\u001b[0m \u001b[43m\u001b[49m\u001b[43m)\u001b[49m\n",
      "File \u001b[1;32md:\\CODEING\\Anaconda\\envs\\Pytorch\\lib\\site-packages\\pandas\\core\\internals\\managers.py:352\u001b[0m, in \u001b[0;36mBaseBlockManager.apply\u001b[1;34m(self, f, align_keys, **kwargs)\u001b[0m\n\u001b[0;32m    350\u001b[0m         applied \u001b[38;5;241m=\u001b[39m b\u001b[38;5;241m.\u001b[39mapply(f, \u001b[38;5;241m*\u001b[39m\u001b[38;5;241m*\u001b[39mkwargs)\n\u001b[0;32m    351\u001b[0m     \u001b[38;5;28;01melse\u001b[39;00m:\n\u001b[1;32m--> 352\u001b[0m         applied \u001b[38;5;241m=\u001b[39m \u001b[38;5;28;43mgetattr\u001b[39;49m\u001b[43m(\u001b[49m\u001b[43mb\u001b[49m\u001b[43m,\u001b[49m\u001b[43m \u001b[49m\u001b[43mf\u001b[49m\u001b[43m)\u001b[49m\u001b[43m(\u001b[49m\u001b[38;5;241;43m*\u001b[39;49m\u001b[38;5;241;43m*\u001b[39;49m\u001b[43mkwargs\u001b[49m\u001b[43m)\u001b[49m\n\u001b[0;32m    353\u001b[0m     result_blocks \u001b[38;5;241m=\u001b[39m extend_blocks(applied, result_blocks)\n\u001b[0;32m    355\u001b[0m out \u001b[38;5;241m=\u001b[39m \u001b[38;5;28mtype\u001b[39m(\u001b[38;5;28mself\u001b[39m)\u001b[38;5;241m.\u001b[39mfrom_blocks(result_blocks, \u001b[38;5;28mself\u001b[39m\u001b[38;5;241m.\u001b[39maxes)\n",
      "File \u001b[1;32md:\\CODEING\\Anaconda\\envs\\Pytorch\\lib\\site-packages\\pandas\\core\\internals\\blocks.py:1281\u001b[0m, in \u001b[0;36mBlock.fillna\u001b[1;34m(self, value, limit, inplace, downcast, using_cow)\u001b[0m\n\u001b[0;32m   1279\u001b[0m     noop \u001b[38;5;241m=\u001b[39m \u001b[38;5;28;01mTrue\u001b[39;00m\n\u001b[0;32m   1280\u001b[0m \u001b[38;5;28;01melse\u001b[39;00m:\n\u001b[1;32m-> 1281\u001b[0m     mask \u001b[38;5;241m=\u001b[39m \u001b[43misna\u001b[49m\u001b[43m(\u001b[49m\u001b[38;5;28;43mself\u001b[39;49m\u001b[38;5;241;43m.\u001b[39;49m\u001b[43mvalues\u001b[49m\u001b[43m)\u001b[49m\n\u001b[0;32m   1282\u001b[0m     mask, noop \u001b[38;5;241m=\u001b[39m validate_putmask(\u001b[38;5;28mself\u001b[39m\u001b[38;5;241m.\u001b[39mvalues, mask)\n\u001b[0;32m   1284\u001b[0m \u001b[38;5;28;01mif\u001b[39;00m noop:\n\u001b[0;32m   1285\u001b[0m     \u001b[38;5;66;03m# we can't process the value, but nothing to do\u001b[39;00m\n",
      "File \u001b[1;32md:\\CODEING\\Anaconda\\envs\\Pytorch\\lib\\site-packages\\pandas\\core\\dtypes\\missing.py:183\u001b[0m, in \u001b[0;36misna\u001b[1;34m(obj)\u001b[0m\n\u001b[0;32m    106\u001b[0m \u001b[38;5;28;01mdef\u001b[39;00m \u001b[38;5;21misna\u001b[39m(obj: \u001b[38;5;28mobject\u001b[39m) \u001b[38;5;241m-\u001b[39m\u001b[38;5;241m>\u001b[39m \u001b[38;5;28mbool\u001b[39m \u001b[38;5;241m|\u001b[39m npt\u001b[38;5;241m.\u001b[39mNDArray[np\u001b[38;5;241m.\u001b[39mbool_] \u001b[38;5;241m|\u001b[39m NDFrame:\n\u001b[0;32m    107\u001b[0m \u001b[38;5;250m    \u001b[39m\u001b[38;5;124;03m\"\"\"\u001b[39;00m\n\u001b[0;32m    108\u001b[0m \u001b[38;5;124;03m    Detect missing values for an array-like object.\u001b[39;00m\n\u001b[0;32m    109\u001b[0m \n\u001b[1;32m   (...)\u001b[0m\n\u001b[0;32m    181\u001b[0m \u001b[38;5;124;03m    Name: 1, dtype: bool\u001b[39;00m\n\u001b[0;32m    182\u001b[0m \u001b[38;5;124;03m    \"\"\"\u001b[39;00m\n\u001b[1;32m--> 183\u001b[0m     \u001b[38;5;28;01mreturn\u001b[39;00m \u001b[43m_isna\u001b[49m\u001b[43m(\u001b[49m\u001b[43mobj\u001b[49m\u001b[43m)\u001b[49m\n",
      "File \u001b[1;32md:\\CODEING\\Anaconda\\envs\\Pytorch\\lib\\site-packages\\pandas\\core\\dtypes\\missing.py:212\u001b[0m, in \u001b[0;36m_isna\u001b[1;34m(obj, inf_as_na)\u001b[0m\n\u001b[0;32m    210\u001b[0m     \u001b[38;5;28;01mreturn\u001b[39;00m \u001b[38;5;28;01mFalse\u001b[39;00m\n\u001b[0;32m    211\u001b[0m \u001b[38;5;28;01melif\u001b[39;00m \u001b[38;5;28misinstance\u001b[39m(obj, (np\u001b[38;5;241m.\u001b[39mndarray, ABCExtensionArray)):\n\u001b[1;32m--> 212\u001b[0m     \u001b[38;5;28;01mreturn\u001b[39;00m \u001b[43m_isna_array\u001b[49m\u001b[43m(\u001b[49m\u001b[43mobj\u001b[49m\u001b[43m,\u001b[49m\u001b[43m \u001b[49m\u001b[43minf_as_na\u001b[49m\u001b[38;5;241;43m=\u001b[39;49m\u001b[43minf_as_na\u001b[49m\u001b[43m)\u001b[49m\n\u001b[0;32m    213\u001b[0m \u001b[38;5;28;01melif\u001b[39;00m \u001b[38;5;28misinstance\u001b[39m(obj, ABCIndex):\n\u001b[0;32m    214\u001b[0m     \u001b[38;5;66;03m# Try to use cached isna, which also short-circuits for integer dtypes\u001b[39;00m\n\u001b[0;32m    215\u001b[0m     \u001b[38;5;66;03m#  and avoids materializing RangeIndex._values\u001b[39;00m\n\u001b[0;32m    216\u001b[0m     \u001b[38;5;28;01mif\u001b[39;00m \u001b[38;5;129;01mnot\u001b[39;00m obj\u001b[38;5;241m.\u001b[39m_can_hold_na:\n",
      "File \u001b[1;32md:\\CODEING\\Anaconda\\envs\\Pytorch\\lib\\site-packages\\pandas\\core\\dtypes\\missing.py:302\u001b[0m, in \u001b[0;36m_isna_array\u001b[1;34m(values, inf_as_na)\u001b[0m\n\u001b[0;32m    300\u001b[0m         result \u001b[38;5;241m=\u001b[39m \u001b[38;5;241m~\u001b[39mnp\u001b[38;5;241m.\u001b[39misfinite(values)\n\u001b[0;32m    301\u001b[0m     \u001b[38;5;28;01melse\u001b[39;00m:\n\u001b[1;32m--> 302\u001b[0m         result \u001b[38;5;241m=\u001b[39m \u001b[43mnp\u001b[49m\u001b[38;5;241;43m.\u001b[39;49m\u001b[43misnan\u001b[49m\u001b[43m(\u001b[49m\u001b[43mvalues\u001b[49m\u001b[43m)\u001b[49m\n\u001b[0;32m    304\u001b[0m \u001b[38;5;28;01mreturn\u001b[39;00m result\n",
      "\u001b[1;31mKeyboardInterrupt\u001b[0m: "
     ]
    }
   ],
   "source": [
    "import importlib\n",
    "from Models import Strategy\n",
    "importlib.reload(Strategy)\n",
    "from Models.Strategy import *\n",
    "\n",
    "startday='2023-12-01'\n",
    "sig=1.5\n",
    "backtesting = MyStrategy([StockData.Stock_dict[columns[0]],StockData.Stock_dict[columns[1]]],startday,sig)\n",
    "backtesting.run()\n",
    "backtesting.show()\n"
   ]
  },
  {
   "cell_type": "code",
   "execution_count": null,
   "metadata": {},
   "outputs": [],
   "source": []
  }
 ],
 "metadata": {
  "kernelspec": {
   "display_name": "Pytorch",
   "language": "python",
   "name": "python3"
  },
  "language_info": {
   "codemirror_mode": {
    "name": "ipython",
    "version": 3
   },
   "file_extension": ".py",
   "mimetype": "text/x-python",
   "name": "python",
   "nbconvert_exporter": "python",
   "pygments_lexer": "ipython3",
   "version": "3.8.20"
  }
 },
 "nbformat": 4,
 "nbformat_minor": 2
}
