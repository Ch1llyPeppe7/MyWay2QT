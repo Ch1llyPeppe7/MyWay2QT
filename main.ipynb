{
 "cells": [
  {
   "cell_type": "code",
   "execution_count": 2,
   "metadata": {},
   "outputs": [],
   "source": [
    "import baostock as bs\n",
    "import pandas as pd\n",
    "import numpy as np\n",
    "\n",
    "# 计算日度回报率\n",
    "def calculate_daily_returns(df):\n",
    "    df['close'] = df['close'].astype(float)\n",
    "    df['daily_return'] = df['close'].pct_change()  # 计算日度回报率\n",
    "    return df\n",
    "\n",
    "# 获取股票历史数据\n",
    "def fetch_stock_data(stock_code, start_date, end_date, fields, file_name):\n",
    "    # 登录\n",
    "    lg = bs.login()\n",
    "    if lg.error_code != '0':\n",
    "        print(f\"登录失败，错误代码：{lg.error_code}，错误信息：{lg.error_msg}\")\n",
    "        return None\n",
    "    \n",
    "    # 获取历史数据\n",
    "    rs = bs.query_history_k_data_plus(stock_code,  # 股票代码\n",
    "                                      fields,  # 需要的字段\n",
    "                                      start_date=start_date,  # 起始日期\n",
    "                                      end_date=end_date,  # 结束日期\n",
    "                                      frequency=\"d\",  # 数据频率：'d'表示日线\n",
    "                                      adjustflag='3')  # 复权：'3'表示前复权\n",
    "    \n",
    "    # 获取数据\n",
    "    data = []\n",
    "    while rs.next():\n",
    "        data.append(rs.get_row_data())\n",
    "    \n",
    "    if data:\n",
    "        df = pd.DataFrame(data, columns=fields.split(','))\n",
    "        df = calculate_daily_returns(df)\n",
    "        df.to_csv(file_name, index=False)\n",
    "        print(f\"股票数据已保存到 {file_name}\")\n",
    "    else:\n",
    "        print(\"没有获取到数据\")\n",
    "    \n",
    "    bs.logout()\n",
    "\n",
    "# 获取市场指数数据（例如：上证指数）\n",
    "def fetch_market_data(market_code, start_date, end_date, fields, file_name):\n",
    "    lg = bs.login()\n",
    "    if lg.error_code != '0':\n",
    "        print(f\"登录失败，错误代码：{lg.error_code}，错误信息：{lg.error_msg}\")\n",
    "        return None\n",
    "    \n",
    "    # 获取市场指数数据\n",
    "    rs = bs.query_history_k_data_plus(market_code,  # 市场指数代码\n",
    "                                      fields,  # 需要的字段\n",
    "                                      start_date=start_date,  # 起始日期\n",
    "                                      end_date=end_date,  # 结束日期\n",
    "                                      frequency=\"d\",  # 数据频率：'d'表示日线\n",
    "                                      adjustflag='3')  # 复权：'3'表示前复权\n",
    "    \n",
    "    # 获取数据\n",
    "    data = []\n",
    "    while rs.next():\n",
    "        data.append(rs.get_row_data())\n",
    "    \n",
    "    if data:\n",
    "        df = pd.DataFrame(data, columns=fields.split(','))\n",
    "        df = calculate_daily_returns(df)\n",
    "        df.to_csv(file_name, index=False)\n",
    "        print(f\"市场数据已保存到 {file_name}\")\n",
    "    else:\n",
    "        print(\"没有获取到市场数据\")\n",
    "    \n",
    "    bs.logout()\n"
   ]
  },
  {
   "cell_type": "markdown",
   "metadata": {},
   "source": [
    "# 数据集准备"
   ]
  },
  {
   "cell_type": "markdown",
   "metadata": {},
   "source": [
    "## 函数库"
   ]
  },
  {
   "cell_type": "code",
   "execution_count": 3,
   "metadata": {},
   "outputs": [],
   "source": [
    "import plotly.express as px\n",
    "start='2023-12-01'\n",
    "end='2024-11-30'\n",
    "def Interplolate(df,time,order=2):\n",
    "    df.loc[:,time]=pd.to_datetime(df[time])\n",
    "    df.set_index(time,inplace=True)\n",
    "    date_range = pd.date_range(start=start, end=end, freq='D')\n",
    "    df = df[start:end].reindex(date_range)\n",
    "    if np.isnan(df.iloc[0].item()):\n",
    "        df.iloc[0]=df.mean().item()\n",
    "    return df,df.interpolate(method='spline',order=order)\n",
    "\n",
    "def BfAfInterplolate(df,df_filled):\n",
    "    fig = px.line(x=df.index, y=df[df.columns[0]], line_shape='linear', title=\"Yield over Time\")\n",
    "\n",
    "    fig.add_scatter(x=df_filled.index, y=df_filled[df_filled.columns[0]], mode='lines', name=\"Interpolated Data\", line=dict(color='red'))\n",
    "    var=np.var(df_filled.to_numpy())\n",
    "    mean=np.mean(df_filled.to_numpy())\n",
    "    fig.update_traces(connectgaps=False)\n",
    "    fig.update_layout(\n",
    "        title=\"Yield over Time\",\n",
    "        xaxis_title=\"Date\",\n",
    "        yaxis_title=\"Yield(%)\",\n",
    "        legend_title=\"Data\",\n",
    "        legend=dict(\n",
    "            title=\"Legend\",\n",
    "            x=1,\n",
    "            y=1\n",
    "        )\n",
    "    )\n",
    "   \n",
    "    fig.add_annotation(\n",
    "        x=df_filled.index[len(df_filled)//2],  # 放置注释的x位置\n",
    "        y=max(df_filled[df_filled.columns[0]]),  # 放置注释的y位置\n",
    "        text=f\"Variance: {var:.4f}Mean: {mean:.4f}\",  # 方差值，保留四位小数\n",
    "        showarrow=False,  # 不显示箭头\n",
    "        font=dict(size=12, color='black'),  # 设置字体大小和颜色\n",
    "        bgcolor='white'  # 背景颜色\n",
    "    )\n",
    " \n",
    "    fig.show()\n",
    "\n",
    "def CalYield(Clsprc):\n",
    "    e=Clsprc.to_numpy()\n",
    "    e_filled = np.zeros(e.shape[0] + 1) \n",
    "    e_filled[1:]=e\n",
    "    e_filled[0]=2*e[0]-e[1]\n",
    "    Yield=np.log(e_filled[1:]/e_filled[:-1])*100\n",
    "    return Yield\n",
    "    \n",
    "def StkProcessing(df,time,code,columns):\n",
    "    df=df[df['Filling']==0]\n",
    "    df_dict={}\n",
    "    for column in columns:\n",
    "        col_df = df[df[code].notnull()][[time,code, column]]\n",
    "        col_df = col_df.pivot(index=time, columns=code, values=column)\n",
    "        df_dict[column] = col_df\n",
    "\n",
    "    return df_dict\n"
   ]
  },
  {
   "cell_type": "markdown",
   "metadata": {},
   "source": [
    "## 数据清洗"
   ]
  },
  {
   "cell_type": "code",
   "execution_count": 4,
   "metadata": {},
   "outputs": [],
   "source": [
    "import pandas as pd\n",
    "import numpy as np\n",
    "Market=pd.read_csv('TRD_Cndalym.csv')\n",
    "Amarket=Market[Market['Markettype']==5]\n",
    "Amarket.loc[:,'Cdretmdos'] = Amarket['Cdretmdos'] * 100\n",
    "marketflow=Amarket[['Trddt','Cdretmdos']]\n",
    "\n",
    "lowrisk=pd.read_csv('BND_TreasYield.csv')\n",
    "lowrisk=lowrisk[lowrisk['Cvtype']==2]\n",
    "lowrisk_1y=lowrisk[lowrisk['Yeartomatu']==1][['Trddt','Yield']]\n",
    "lowrisk_1y.loc[:,'Yield']=lowrisk_1y['Yield'].astype(np.float64)/365\n",
    "lowrisk_1y,lowrisk_1y_filled=Interplolate(lowrisk_1y,'Trddt')\n",
    "\n",
    "marketflow,marketflow_filled=Interplolate(marketflow,'Trddt',1)\n",
    "filled_datalist=[marketflow_filled,lowrisk_1y_filled]\n",
    "datalist=[marketflow,lowrisk_1y]\n",
    "\n"
   ]
  },
  {
   "cell_type": "code",
   "execution_count": 5,
   "metadata": {},
   "outputs": [],
   "source": [
    "time='TradingDate'\n",
    "code='Symbol'\n",
    "dfs = [pd.read_csv(f'TRD_FwardQuotation{i}.csv') for i in range(1, 7)]\n",
    "combined_df = pd.concat(dfs)\n",
    "columns=['OpenPrice','ClosePrice','TurnoverRate1','MarketValue','CirculatedMarketValue']\n",
    "stkdf_dict=StkProcessing(combined_df,time,code,columns)\n"
   ]
  },
  {
   "cell_type": "code",
   "execution_count": null,
   "metadata": {},
   "outputs": [],
   "source": []
  },
  {
   "cell_type": "code",
   "execution_count": null,
   "metadata": {},
   "outputs": [],
   "source": []
  },
  {
   "cell_type": "markdown",
   "metadata": {},
   "source": [
    "## 数据集划分"
   ]
  },
  {
   "cell_type": "code",
   "execution_count": 6,
   "metadata": {},
   "outputs": [],
   "source": [
    "# #spilt\n",
    "# def split(datalist, a=0.8):\n",
    "#     train_datas = []\n",
    "#     test_datas = []\n",
    "    \n",
    "#     for df in datalist:\n",
    "#         # 获取数据的分割点\n",
    "#         train_size = int(len(df) * a)  # 计算训练集的大小\n",
    "        \n",
    "#         # 切割数据集\n",
    "#         train_data = df.iloc[:train_size]  # 前 a% 的数据作为训练集\n",
    "#         test_data = df.iloc[train_size:]  # 剩余的数据作为测试集\n",
    "        \n",
    "#         # 添加到对应的列表\n",
    "#         train_datas.append(train_data)\n",
    "#         test_datas.append(test_data)\n",
    "    \n",
    "#     return train_datas, test_datas\n",
    "# train_datas,test_datas=split(filled_datalist)\n",
    "# org_train,org_test=split(datalist)\n"
   ]
  },
  {
   "cell_type": "markdown",
   "metadata": {},
   "source": [
    "## 收益率曲线展示"
   ]
  },
  {
   "cell_type": "code",
   "execution_count": 7,
   "metadata": {},
   "outputs": [],
   "source": [
    "# for df,filled_df,test_df,filled_test_df in zip(org_train,train_datas,org_test,test_datas):\n",
    "#     BfAfInterplolate(df,filled_df)\n",
    "#     BfAfInterplolate(test_df,filled_test_df)"
   ]
  },
  {
   "cell_type": "markdown",
   "metadata": {},
   "source": [
    "# 收益率溢价评估"
   ]
  },
  {
   "cell_type": "markdown",
   "metadata": {},
   "source": [
    "## CAPM"
   ]
  },
  {
   "cell_type": "code",
   "execution_count": 8,
   "metadata": {},
   "outputs": [],
   "source": [
    "# stk_index=np.arange(len(train_datas))[2:]\n",
    "# def CalBetas(datalist,market_index,stk_index):\n",
    "#     betas=[]\n",
    "#     for i in stk_index:\n",
    "#         cov=np.cov(datalist[i].to_numpy().flatten(),datalist[market_index].to_numpy().flatten())\n",
    "#         betai=cov[0,1]/cov[1,1]\n",
    "#         betas.append(betai)\n",
    "#     return betas\n",
    "\n",
    "# def CalERi(datalist,betas,market_index,lowrisk_index,episilon=0):\n",
    "#     m=np.array(datalist)[market_index].squeeze(1)\n",
    "#     l=np.array(datalist)[lowrisk_index].squeeze(1)\n",
    "#     delta=m-l\n",
    "#     return np.array(betas).reshape(-1,1)@delta.reshape(1,-1)+l\n",
    "\n",
    "# def GetCovMatrix(datalist,stk_index):\n",
    "#     return np.cov(np.array(datalist)[stk_index].squeeze(2),rowvar=True)\n",
    "\n",
    "# betas=CalBetas(train_datas,0,stk_index)\n",
    "# ERi=CalERi(train_datas,betas,0,1)\n",
    "# CovMatrix=GetCovMatrix(train_datas,stk_index)\n",
    "\n"
   ]
  },
  {
   "cell_type": "markdown",
   "metadata": {},
   "source": [
    "## 资产组合优化"
   ]
  },
  {
   "cell_type": "markdown",
   "metadata": {},
   "source": [
    "## numpy解析法"
   ]
  },
  {
   "cell_type": "code",
   "execution_count": 9,
   "metadata": {},
   "outputs": [],
   "source": [
    "# def minimize_sigma(sigma,u,u_star):\n",
    "#     '''np方法得到给定收益率期望下使得风险系数最小的权重向量解析解'''\n",
    "#     one=np.zeros((u.shape[0],1))+1\n",
    "#     inv_sigma=np.linalg.inv(sigma)\n",
    "#     A=np.concatenate((one.T,u.T))\n",
    "#     P1=one.T@inv_sigma@A.T\n",
    "#     P2=u.T@inv_sigma@A.T\n",
    "#     P=np.concatenate((P1,P2))\n",
    "#     b=np.matrix([1,u_star]).reshape(2,1)\n",
    "#     lambdas=np.linalg.solve(P,b)\n",
    "#     return lambdas.T@A@inv_sigma\n",
    "\n",
    "# u=ERi[:,100].reshape(ERi.shape[0],1)\n",
    "# w=minimize_sigma(CovMatrix,u,1)\n",
    "\n",
    "# U=w@u\n",
    "# var=w@CovMatrix@w.T\n",
    "\n",
    "# print(w)\n",
    "# print(U/np.sqrt(var))"
   ]
  },
  {
   "cell_type": "markdown",
   "metadata": {},
   "source": [
    "## cvxpy凸优化库二次规划"
   ]
  },
  {
   "cell_type": "code",
   "execution_count": 10,
   "metadata": {},
   "outputs": [],
   "source": [
    "# import cvxpy as cp\n",
    "# def cp_minimize_sigma(CovMatrix,u,ustar):\n",
    "#     w=cp.Variable(u.shape[0])\n",
    "\n",
    "#     objective=cp.Minimize(cp.quad_form(w,CovMatrix))\n",
    "\n",
    "#     constrains=[cp.sum(w)==1,w>=0,w@u>=ustar]\n",
    "\n",
    "#     problem=cp.Problem(objective,constrains)\n",
    "#     problem.solve()\n",
    "#     if problem.status not in [\"infeasible\", \"unbounded\"]:\n",
    "#         return w.value,cp.quad_form(w,CovMatrix).value\n",
    "#     else:\n",
    "#         raise ValueError(\"minimize Optimization did not succeed. Status: \" + problem.status)\n",
    "# def cp_maximize_u(CovMatrix,u,sig):\n",
    "#     w=cp.Variable(u.shape[0])\n",
    "\n",
    "#     objective=cp.Maximize(w@u)\n",
    "\n",
    "#     constrains=[cp.sum(w)==1,w>=0,cp.quad_form(w,CovMatrix)<=sig]\n",
    "\n",
    "#     problem=cp.Problem(objective,constrains)\n",
    "#     problem.solve()\n",
    "#     if problem.status not in [\"infeasible\", \"unbounded\"]:\n",
    "#         return w.value,cp.quad_form(w,CovMatrix).value\n",
    "#     else:\n",
    "#         raise ValueError(\"maximize Optimization did not succeed. Status: \" + problem.status)\n",
    "# ustar=0.08\n",
    "# sig=1.2\n",
    "# w1,s1=cp_maximize_u(CovMatrix,u,sig)\n",
    "# w2,s2=cp_minimize_sigma(CovMatrix,u,ustar)\n",
    "\n",
    "# print(w1@u/np.sqrt(s1),w1@u,s1)\n",
    "# print(w2@u/np.sqrt(s2),w2@u,s2)\n"
   ]
  },
  {
   "cell_type": "code",
   "execution_count": null,
   "metadata": {},
   "outputs": [],
   "source": [
    "\n"
   ]
  },
  {
   "cell_type": "markdown",
   "metadata": {},
   "source": [
    "# 回测"
   ]
  },
  {
   "cell_type": "markdown",
   "metadata": {},
   "source": [
    "## 回测类"
   ]
  },
  {
   "cell_type": "code",
   "execution_count": 40,
   "metadata": {},
   "outputs": [],
   "source": [
    "class Backtest:\n",
    "    def __init__(self,OpenPrc,stock_data,StartDay,initial_cash=100000):\n",
    "        self.Oprc=OpenPrc\n",
    "        self.startday=StartDay\n",
    "        self.stock_data = stock_data\n",
    "        self.initial_cash = initial_cash\n",
    "        self.cash = initial_cash\n",
    "        self.positions = pd.Series(0, index=range(len(stock_data.columns)))\n",
    "        self.name=stock_data.columns  \n",
    "        self.history = []  # 记录每个时间步的账户状态\n",
    "\n",
    "    def set_strategy(self,BS,SS):\n",
    "        self.BS=BS\n",
    "        self.SS=SS\n",
    "\n",
    "    def run(self):\n",
    "        self.day=0\n",
    "        for self.date, row in self.Oprc.loc[self.startday:].iterrows():\n",
    "            self.prices=row.to_numpy()\n",
    "            self._sell(self.SS(self.stock_data.loc[:self.date]))\n",
    "            self._buy(self.BS(self.stock_data.loc[:self.date]))\n",
    "            self.history.append({\n",
    "                'date': self.date,\n",
    "                'cash': self.cash,\n",
    "                'positions': self.positions.copy(),\n",
    "                'portfolio_value': self.cash + (self.positions * row).sum()\n",
    "            })\n",
    "            self.day+=1\n",
    "    \n",
    "    def _buy(self, buy_signals):\n",
    "        for idx, qty in buy_signals.items():\n",
    "            self.cash -= qty*self.prices[idx]\n",
    "            self.positions.iloc[idx] += qty\n",
    "\n",
    "    def _sell(self, sell_signals):\n",
    "        for idx, qty in sell_signals.items():\n",
    "            self.cash += qty*self.prices[idx]\n",
    "            self.positions.iloc[idx] -= qty\n",
    "\n",
    "  \n",
    "\n"
   ]
  },
  {
   "cell_type": "markdown",
   "metadata": {},
   "source": [
    "## 函数库"
   ]
  },
  {
   "cell_type": "markdown",
   "metadata": {},
   "source": [
    "### 组合优化"
   ]
  },
  {
   "cell_type": "code",
   "execution_count": 41,
   "metadata": {},
   "outputs": [],
   "source": [
    "import torch\n",
    "import cvxpy as cp\n",
    "def cp_minimize_sigma(CovMatrix,u,ustar):\n",
    "    w=cp.Variable(u.shape[0])\n",
    "\n",
    "    objective=cp.Minimize(cp.quad_form(w,CovMatrix))\n",
    "\n",
    "    constrains=[cp.sum(w)==1,w>=0,w@u>=ustar]\n",
    "\n",
    "    problem=cp.Problem(objective,constrains)\n",
    "    problem.solve()\n",
    "    if problem.status not in [\"infeasible\", \"unbounded\"]:\n",
    "        return w.value,cp.quad_form(w,CovMatrix).value\n",
    "    else:\n",
    "        raise ValueError(\"minimize Optimization did not succeed. Status: \" + problem.status)\n",
    "def cp_maximize_u(CovMatrix,u,sig):\n",
    "    w=cp.Variable(u.shape[0])\n",
    "\n",
    "    objective=cp.Maximize(w@u)\n",
    "\n",
    "    constrains=[cp.sum(w)==1,w>=0,cp.quad_form(w,CovMatrix)<=sig]\n",
    "\n",
    "    problem=cp.Problem(objective,constrains)\n",
    "    problem.solve()\n",
    "    if problem.status not in [\"infeasible\", \"unbounded\"]:\n",
    "        return w.value,cp.quad_form(w,CovMatrix).value\n",
    "    else:\n",
    "        raise ValueError(\"maximize Optimization did not succeed. Status: \" + problem.status)\n",
    "    \n",
    "device = torch.device(\"cuda\" if torch.cuda.is_available() else \"cpu\")\n",
    "def SelectStks(df,ustar=0):\n",
    "    m=torch.tensor(df.fillna(df.mean()).to_numpy())\n",
    "    m[torch.isnan(m)]=-1\n",
    "    m=m.to(device)\n",
    "    Yield=torch.log(m[1:,:]/m[:-1,:])*100#(%)\n",
    "    var=torch.var(Yield,dim=0,unbiased=True)\n",
    "\n",
    "    U=Yield.mean(0)\n",
    "\n",
    "    info=U/(torch.sqrt(var)+(var==0).float())\n",
    "\n",
    "    _,indices=torch.topk(info,30)\n",
    "    filtered_idxs=indices[U[indices]>ustar]\n",
    "\n",
    "    return filtered_idxs.cpu(),Yield.cpu()\n",
    "\n",
    "def Estimate(Yield,idxs):\n",
    "    cov=torch.cov(Yield[:,idxs].to(device).T)\n",
    "    u=Yield[:,idxs].mean(0)\n",
    "    return cov.cpu(),u.cpu()\n"
   ]
  },
  {
   "cell_type": "markdown",
   "metadata": {},
   "source": [
    "## 策略类"
   ]
  },
  {
   "cell_type": "code",
   "execution_count": 44,
   "metadata": {},
   "outputs": [],
   "source": [
    "import seaborn as sns\n",
    "class Strategy:\n",
    "    def __init__(self,dflist,startday,initial_money=100000):\n",
    "        self.backtest=Backtest(dflist[0],dflist[1],startday\n",
    "                              ,initial_money)\n",
    "    def buy_strategy():\n",
    "        raise NotImplementedError(\"Subclasses should implement this method.\")\n",
    "    def sell_strategy():\n",
    "        raise NotImplementedError(\"Subclasses should implement this method.\")\n",
    "    def run(self):\n",
    "        self.backtest.run()\n",
    "    def show(self):\n",
    "        sns.lineplot(pd.DataFrame(self.backtest.history)['portfolio_value'])\n",
    "\n",
    "\n",
    "class MyStrategy(Strategy):\n",
    "    def __init__(self, dflist, startday,sig, initial_money=100000):\n",
    "        super().__init__(dflist, startday, initial_money)\n",
    "        self.backtest.set_strategy(self.buy_strategy,self.sell_strategy)\n",
    "        self.sig=sig\n",
    "    def Refresh_Position(self,Clprc):\n",
    "        Oprc=self.backtest.prices\n",
    "        idxs,Yield=SelectStks(Clprc.iloc[:-1])\n",
    "        if self.backtest.day==0:\n",
    "            position_idxs=idxs\n",
    "        else:\n",
    "            hist_position=self.backtest.positions\n",
    "            histidxs=torch.tensor(hist_position[hist_position>0].index)\n",
    "            position_idxs=torch.concatenate((histidxs,idxs)).unique()\n",
    " \n",
    "        cov,u=Estimate(Yield,position_idxs)\n",
    "        p_idxs=position_idxs.cpu().numpy()\n",
    "        w,sig=cp_maximize_u(cov,u,self.sig)\n",
    "\n",
    "        now_position=self.backtest.positions.to_numpy()\n",
    "\n",
    "        total_cash=self.backtest.cash+now_position[p_idxs]@Oprc[p_idxs]\n",
    "        \n",
    "        k=total_cash/(Oprc[p_idxs]@w)\n",
    "        W=np.floor(w*k)\n",
    "\n",
    "        changes=W-now_position[p_idxs]\n",
    "      \n",
    "        return changes,p_idxs\n",
    "    \n",
    " \n",
    "    \n",
    "\n",
    "    def buy_strategy(self,Clprc):\n",
    "        buy_signals = {}\n",
    "        if self.backtest.day%30==0:\n",
    "            changes,position_idxs=self.Refresh_Position(Clprc)\n",
    "            for idx,qty in zip(position_idxs,changes):\n",
    "                if qty>0:\n",
    "                    buy_signals[idx]=qty\n",
    "        #print(\"buy\",position_idxs,buy_signals)\n",
    "        return buy_signals\n",
    "\n",
    "\n",
    "    def sell_strategy(self,Clprc):\n",
    "        sell_signals = {}\n",
    "        if self.backtest.day%30==0:\n",
    "            changes,position_idxs=self.Refresh_Position(Clprc)\n",
    "            for idx,qty in zip(position_idxs,changes):\n",
    "                if qty<0:\n",
    "                    sell_signals[idx]=qty\n",
    "        #print(\"sell\",position_idxs,sell_signals)\n",
    "        return sell_signals"
   ]
  },
  {
   "cell_type": "code",
   "execution_count": 45,
   "metadata": {},
   "outputs": [
    {
     "data": {
      "image/png": "[encoded data removed]",
      "text/plain": [
       "<Figure size 640x480 with 1 Axes>"
      ]
     },
     "metadata": {},
     "output_type": "display_data"
    }
   ],
   "source": [
    "startday='2023-12-01'\n",
    "sig=1.5\n",
    "backtesting = MyStrategy([stkdf_dict[columns[0]],stkdf_dict[columns[1]]],startday,sig)\n",
    "backtesting.run()\n",
    "backtesting.show()\n",
    "\n"
   ]
  },
  {
   "cell_type": "code",
   "execution_count": null,
   "metadata": {},
   "outputs": [
    {
     "name": "stdout",
     "output_type": "stream",
     "text": [
      "48867711538\n"
     ]
    }
   ],
   "source": []
  },
  {
   "cell_type": "code",
   "execution_count": null,
   "metadata": {},
   "outputs": [
    {
     "name": "stdout",
     "output_type": "stream",
     "text": [
      "Symbol       1       2       4       5       6       7       8       9       \\\n",
      "TradingDate                                                                   \n",
      "2020-12-07   16.433  24.910   25.30    2.58   5.209    8.14    2.73   7.123   \n",
      "2020-12-08   16.260  24.715   25.32    2.56   5.181    8.22    2.73   7.173   \n",
      "2020-12-09   16.260  24.275   24.40    2.52   5.071    8.12    2.69   7.005   \n",
      "2020-12-10   16.207  24.207   24.79    2.55   5.007    8.08    2.68   6.995   \n",
      "2020-12-11   16.094  24.105   25.92    2.53   4.887    7.99    2.63   6.797   \n",
      "...             ...     ...     ...     ...     ...     ...     ...     ...   \n",
      "2024-12-02   11.390   8.680   18.36     NaN   9.270    7.30    2.78  10.070   \n",
      "2024-12-03   11.490   8.740   19.14     NaN   9.070    7.13    3.06  10.020   \n",
      "2024-12-04   11.460   8.550   18.29     NaN   8.890    7.09    3.37   9.890   \n",
      "2024-12-05   11.440   8.520   18.31     NaN   9.020    7.17    3.71   9.860   \n",
      "2024-12-06   11.660   8.680   18.49     NaN   9.490    7.16    3.74   9.920   \n",
      "\n",
      "Symbol       10      11      ...  920016  920019  920060  920066  920088  \\\n",
      "TradingDate                  ...                                           \n",
      "2020-12-07     4.06  11.255  ...     NaN     NaN     NaN     NaN     NaN   \n",
      "2020-12-08     4.06  11.119  ...     NaN     NaN     NaN     NaN     NaN   \n",
      "2020-12-09     4.02  10.864  ...     NaN     NaN     NaN     NaN     NaN   \n",
      "2020-12-10     4.01  10.601  ...     NaN     NaN     NaN     NaN     NaN   \n",
      "2020-12-11     3.94  10.423  ...     NaN     NaN     NaN     NaN     NaN   \n",
      "...             ...     ...  ...     ...     ...     ...     ...     ...   \n",
      "2024-12-02     3.13   9.920  ...   28.47   27.13   39.77   45.97   29.49   \n",
      "2024-12-03     3.13  10.000  ...   28.90   28.42   39.33   46.92   30.22   \n",
      "2024-12-04     3.05   9.920  ...   28.64   27.36   38.36   44.01   29.19   \n",
      "2024-12-05     3.16   9.830  ...   28.26   26.57   38.03   44.05   28.79   \n",
      "2024-12-06     3.33   9.860  ...   29.60   26.76   39.08   44.40   28.97   \n",
      "\n",
      "Symbol       920098  920099  920111  920118  920128  \n",
      "TradingDate                                          \n",
      "2020-12-07      NaN     NaN     NaN     NaN     NaN  \n",
      "2020-12-08      NaN     NaN     NaN     NaN     NaN  \n",
      "2020-12-09      NaN     NaN     NaN     NaN     NaN  \n",
      "2020-12-10      NaN     NaN     NaN     NaN     NaN  \n",
      "2020-12-11      NaN     NaN     NaN     NaN     NaN  \n",
      "...             ...     ...     ...     ...     ...  \n",
      "2024-12-02      NaN   33.97   28.90   32.77   42.00  \n",
      "2024-12-03      NaN   34.40   31.00   33.10   40.68  \n",
      "2024-12-04      NaN   33.55   29.42   34.05   38.71  \n",
      "2024-12-05    42.19   33.42   29.43   32.55   36.99  \n",
      "2024-12-06    54.84   34.90   29.86   31.79   39.39  \n",
      "\n",
      "[971 rows x 5630 columns]\n"
     ]
    }
   ],
   "source": []
  }
 ],
 "metadata": {
  "kernelspec": {
   "display_name": "Pytorch",
   "language": "python",
   "name": "python3"
  },
  "language_info": {
   "codemirror_mode": {
    "name": "ipython",
    "version": 3
   },
   "file_extension": ".py",
   "mimetype": "text/x-python",
   "name": "python",
   "nbconvert_exporter": "python",
   "pygments_lexer": "ipython3",
   "version": "3.8.20"
  }
 },
 "nbformat": 4,
 "nbformat_minor": 2
}
